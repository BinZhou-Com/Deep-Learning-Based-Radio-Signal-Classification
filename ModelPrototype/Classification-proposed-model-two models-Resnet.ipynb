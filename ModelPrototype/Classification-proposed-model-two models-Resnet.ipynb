{
 "cells": [
  {
   "cell_type": "code",
   "execution_count": 1,
   "metadata": {},
   "outputs": [],
   "source": [
    "import h5py\n",
    "import numpy as np\n",
    "import os,random\n",
    "from tensorflow.keras.layers import Input,Reshape,ZeroPadding2D,MaxPool2D,Conv1D,Conv2D,Dropout,Flatten,Dense,Activation,MaxPooling2D,AlphaDropout\n",
    "from tensorflow.keras import layers\n",
    "import tensorflow.keras.models as Model\n",
    "from tensorflow.keras.regularizers import *\n",
    "from tensorflow.keras.optimizers import Adam\n",
    "import seaborn as sns\n",
    "import tensorflow as tf\n",
    "import matplotlib.pyplot as plt\n",
    "from tensorflow.keras.models import load_model\n",
    "import tensorflow_addons as tfa"
   ]
  },
  {
   "cell_type": "code",
   "execution_count": 2,
   "metadata": {
    "scrolled": true
   },
   "outputs": [
    {
     "name": "stderr",
     "output_type": "stream",
     "text": [
      "C:\\Users\\hutom\\anaconda3\\envs\\tf-gpu\\lib\\site-packages\\ipykernel_launcher.py:1: H5pyDeprecationWarning: The default file mode will change to 'r' (read-only) in h5py 3.0. To suppress this warning, pass the mode you need to h5py.File(), or set the global default h5.get_config().default_file_mode, or set the environment variable H5PY_DEFAULT_READONLY=1. Available modes are: 'r', 'r+', 'w', 'w-'/'x', 'a'. See the docs for details.\n",
      "  \"\"\"Entry point for launching an IPython kernel.\n",
      "'free' is not recognized as an internal or external command,\n",
      "operable program or batch file.\n"
     ]
    },
    {
     "name": "stdout",
     "output_type": "stream",
     "text": [
      "C:\\Users\\hutom\\Downloads\\Compressed\\2018.01\\ExtractDataset\\part1.h5\n"
     ]
    },
    {
     "name": "stderr",
     "output_type": "stream",
     "text": [
      "'free' is not recognized as an internal or external command,\n",
      "operable program or batch file.\n"
     ]
    },
    {
     "name": "stdout",
     "output_type": "stream",
     "text": [
      "C:\\Users\\hutom\\Downloads\\Compressed\\2018.01\\ExtractDataset\\part2.h5\n"
     ]
    },
    {
     "name": "stderr",
     "output_type": "stream",
     "text": [
      "'free' is not recognized as an internal or external command,\n",
      "operable program or batch file.\n"
     ]
    },
    {
     "name": "stdout",
     "output_type": "stream",
     "text": [
      "C:\\Users\\hutom\\Downloads\\Compressed\\2018.01\\ExtractDataset\\part3.h5\n"
     ]
    },
    {
     "name": "stderr",
     "output_type": "stream",
     "text": [
      "'free' is not recognized as an internal or external command,\n",
      "operable program or batch file.\n"
     ]
    },
    {
     "name": "stdout",
     "output_type": "stream",
     "text": [
      "C:\\Users\\hutom\\Downloads\\Compressed\\2018.01\\ExtractDataset\\part4.h5\n"
     ]
    },
    {
     "name": "stderr",
     "output_type": "stream",
     "text": [
      "'free' is not recognized as an internal or external command,\n",
      "operable program or batch file.\n"
     ]
    },
    {
     "name": "stdout",
     "output_type": "stream",
     "text": [
      "C:\\Users\\hutom\\Downloads\\Compressed\\2018.01\\ExtractDataset\\part5.h5\n"
     ]
    },
    {
     "name": "stderr",
     "output_type": "stream",
     "text": [
      "'free' is not recognized as an internal or external command,\n",
      "operable program or batch file.\n"
     ]
    },
    {
     "name": "stdout",
     "output_type": "stream",
     "text": [
      "C:\\Users\\hutom\\Downloads\\Compressed\\2018.01\\ExtractDataset\\part6.h5\n"
     ]
    },
    {
     "name": "stderr",
     "output_type": "stream",
     "text": [
      "'free' is not recognized as an internal or external command,\n",
      "operable program or batch file.\n"
     ]
    },
    {
     "name": "stdout",
     "output_type": "stream",
     "text": [
      "C:\\Users\\hutom\\Downloads\\Compressed\\2018.01\\ExtractDataset\\part7.h5\n"
     ]
    },
    {
     "name": "stderr",
     "output_type": "stream",
     "text": [
      "'free' is not recognized as an internal or external command,\n",
      "operable program or batch file.\n"
     ]
    },
    {
     "name": "stdout",
     "output_type": "stream",
     "text": [
      "C:\\Users\\hutom\\Downloads\\Compressed\\2018.01\\ExtractDataset\\part8.h5\n"
     ]
    },
    {
     "name": "stderr",
     "output_type": "stream",
     "text": [
      "'free' is not recognized as an internal or external command,\n",
      "operable program or batch file.\n"
     ]
    },
    {
     "name": "stdout",
     "output_type": "stream",
     "text": [
      "C:\\Users\\hutom\\Downloads\\Compressed\\2018.01\\ExtractDataset\\part9.h5\n"
     ]
    },
    {
     "name": "stderr",
     "output_type": "stream",
     "text": [
      "'free' is not recognized as an internal or external command,\n",
      "operable program or batch file.\n"
     ]
    },
    {
     "name": "stdout",
     "output_type": "stream",
     "text": [
      "C:\\Users\\hutom\\Downloads\\Compressed\\2018.01\\ExtractDataset\\part10.h5\n"
     ]
    },
    {
     "name": "stderr",
     "output_type": "stream",
     "text": [
      "'free' is not recognized as an internal or external command,\n",
      "operable program or batch file.\n"
     ]
    },
    {
     "name": "stdout",
     "output_type": "stream",
     "text": [
      "C:\\Users\\hutom\\Downloads\\Compressed\\2018.01\\ExtractDataset\\part11.h5\n"
     ]
    },
    {
     "name": "stderr",
     "output_type": "stream",
     "text": [
      "'free' is not recognized as an internal or external command,\n",
      "operable program or batch file.\n"
     ]
    },
    {
     "name": "stdout",
     "output_type": "stream",
     "text": [
      "C:\\Users\\hutom\\Downloads\\Compressed\\2018.01\\ExtractDataset\\part12.h5\n"
     ]
    },
    {
     "name": "stderr",
     "output_type": "stream",
     "text": [
      "'free' is not recognized as an internal or external command,\n",
      "operable program or batch file.\n"
     ]
    },
    {
     "name": "stdout",
     "output_type": "stream",
     "text": [
      "C:\\Users\\hutom\\Downloads\\Compressed\\2018.01\\ExtractDataset\\part13.h5\n"
     ]
    },
    {
     "name": "stderr",
     "output_type": "stream",
     "text": [
      "'free' is not recognized as an internal or external command,\n",
      "operable program or batch file.\n"
     ]
    },
    {
     "name": "stdout",
     "output_type": "stream",
     "text": [
      "C:\\Users\\hutom\\Downloads\\Compressed\\2018.01\\ExtractDataset\\part14.h5\n"
     ]
    },
    {
     "name": "stderr",
     "output_type": "stream",
     "text": [
      "'free' is not recognized as an internal or external command,\n",
      "operable program or batch file.\n"
     ]
    },
    {
     "name": "stdout",
     "output_type": "stream",
     "text": [
      "C:\\Users\\hutom\\Downloads\\Compressed\\2018.01\\ExtractDataset\\part15.h5\n"
     ]
    },
    {
     "name": "stderr",
     "output_type": "stream",
     "text": [
      "'free' is not recognized as an internal or external command,\n",
      "operable program or batch file.\n"
     ]
    },
    {
     "name": "stdout",
     "output_type": "stream",
     "text": [
      "C:\\Users\\hutom\\Downloads\\Compressed\\2018.01\\ExtractDataset\\part16.h5\n"
     ]
    },
    {
     "name": "stderr",
     "output_type": "stream",
     "text": [
      "'free' is not recognized as an internal or external command,\n",
      "operable program or batch file.\n"
     ]
    },
    {
     "name": "stdout",
     "output_type": "stream",
     "text": [
      "C:\\Users\\hutom\\Downloads\\Compressed\\2018.01\\ExtractDataset\\part17.h5\n"
     ]
    },
    {
     "name": "stderr",
     "output_type": "stream",
     "text": [
      "'free' is not recognized as an internal or external command,\n",
      "operable program or batch file.\n"
     ]
    },
    {
     "name": "stdout",
     "output_type": "stream",
     "text": [
      "C:\\Users\\hutom\\Downloads\\Compressed\\2018.01\\ExtractDataset\\part18.h5\n"
     ]
    },
    {
     "name": "stderr",
     "output_type": "stream",
     "text": [
      "'free' is not recognized as an internal or external command,\n",
      "operable program or batch file.\n"
     ]
    },
    {
     "name": "stdout",
     "output_type": "stream",
     "text": [
      "C:\\Users\\hutom\\Downloads\\Compressed\\2018.01\\ExtractDataset\\part19.h5\n"
     ]
    },
    {
     "name": "stderr",
     "output_type": "stream",
     "text": [
      "'free' is not recognized as an internal or external command,\n",
      "operable program or batch file.\n"
     ]
    },
    {
     "name": "stdout",
     "output_type": "stream",
     "text": [
      "C:\\Users\\hutom\\Downloads\\Compressed\\2018.01\\ExtractDataset\\part20.h5\n"
     ]
    },
    {
     "name": "stderr",
     "output_type": "stream",
     "text": [
      "'free' is not recognized as an internal or external command,\n",
      "operable program or batch file.\n"
     ]
    },
    {
     "name": "stdout",
     "output_type": "stream",
     "text": [
      "C:\\Users\\hutom\\Downloads\\Compressed\\2018.01\\ExtractDataset\\part21.h5\n"
     ]
    },
    {
     "name": "stderr",
     "output_type": "stream",
     "text": [
      "'free' is not recognized as an internal or external command,\n",
      "operable program or batch file.\n"
     ]
    },
    {
     "name": "stdout",
     "output_type": "stream",
     "text": [
      "C:\\Users\\hutom\\Downloads\\Compressed\\2018.01\\ExtractDataset\\part22.h5\n"
     ]
    },
    {
     "name": "stderr",
     "output_type": "stream",
     "text": [
      "'free' is not recognized as an internal or external command,\n",
      "operable program or batch file.\n"
     ]
    },
    {
     "name": "stdout",
     "output_type": "stream",
     "text": [
      "C:\\Users\\hutom\\Downloads\\Compressed\\2018.01\\ExtractDataset\\part23.h5\n",
      "X-size： (1440000, 1024, 2)\n",
      "Y-size： (1440000, 24)\n",
      "Z-size： (1440000, 1)\n"
     ]
    }
   ],
   "source": [
    "f = h5py.File(r'C:\\Users\\hutom\\Downloads\\Compressed\\2018.01\\ExtractDataset\\part0.h5')\n",
    "sample_num = f['X'].shape[0]\n",
    "# idx = np.random.choice(range(0,sample_num),size=3375)\n",
    "idx = np.random.choice(range(0,sample_num),size=60000)\n",
    "X = f['X'][:][idx]\n",
    "Y = f['Y'][:][idx]\n",
    "Z = f['Z'][:][idx]\n",
    "f.close()\n",
    "\n",
    "for i in range(1,24):\n",
    "    if i%1 == 0:\n",
    "        !free -m\n",
    "    '''if i == 10:\n",
    "        continue'''\n",
    "    filename = r'C:\\Users\\hutom\\Downloads\\Compressed\\2018.01\\ExtractDataset\\part'+str(i) + '.h5'\n",
    "    print(filename)\n",
    "    f = h5py.File(filename,'r')\n",
    "    X = np.vstack((X,f['X'][:][idx]))\n",
    "    Y = np.vstack((Y,f['Y'][:][idx]))\n",
    "    Z = np.vstack((Z,f['Z'][:][idx]))\n",
    "    f.close()\n",
    "\n",
    "\n",
    "print('X-size：',X.shape)\n",
    "print('Y-size：',Y.shape)\n",
    "print('Z-size：',Z.shape)"
   ]
  },
  {
   "cell_type": "markdown",
   "metadata": {},
   "source": [
    "## Data preprocessing, and obtain training set and test set"
   ]
  },
  {
   "cell_type": "code",
   "execution_count": 3,
   "metadata": {},
   "outputs": [
    {
     "name": "stdout",
     "output_type": "stream",
     "text": [
      "X_train_under: (487211, 1024, 2)\n",
      "Y_train_under: (487211, 24)\n",
      "X_train_upper: (664789, 1024, 2)\n",
      "Y_train_upper: (664789, 24)\n",
      "X_test: (288000, 1024, 2)\n",
      "Y_test: (288000, 24)\n"
     ]
    }
   ],
   "source": [
    "n_examples = X.shape[0]\n",
    "# n_train = int(n_examples * 0.9877) \n",
    "n_train = int(n_examples * 0.8)  \n",
    "train_idx = np.random.choice(range(0,n_examples), size=n_train, replace=False)  #Randomly select training sample subscript\n",
    "test_idx = list(set(range(0,n_examples))-set(train_idx)) #Test sample index\n",
    "\n",
    "\n",
    "Z_train = Z[train_idx]\n",
    "Z_train = Z_train.reshape((len(Z_train)))\n",
    "\n",
    "\n",
    "train_idx_under=[] #trainidx for data with SNR <=0dB\n",
    "train_idx_upper=[] #trainidx for data with SNR>0dB\n",
    "for index, snr in enumerate(Z_train):\n",
    "    if (snr<=0):\n",
    "        train_idx_under.append(index)\n",
    "    else:\n",
    "        train_idx_upper.append(index)\n",
    "random.shuffle(train_idx_under)\n",
    "train_idx_under = np.array(train_idx_under)\n",
    "random.shuffle(train_idx_under)\n",
    "train_idx_upper = np.array(train_idx_upper)\n",
    "\n",
    "X_train_under = X[train_idx_under]  #training samples\n",
    "Y_train_under = Y[train_idx_under]\n",
    "\n",
    "X_train_upper = X[train_idx_upper]  #training samples\n",
    "Y_train_upper = Y[train_idx_upper]\n",
    "\n",
    "X_test =  X[test_idx]  #testing samples\n",
    "Y_test = Y[test_idx]\n",
    "print(\"X_train_under:\",X_train_under.shape)\n",
    "print(\"Y_train_under:\",Y_train_under.shape)\n",
    "\n",
    "print(\"X_train_upper:\",X_train_upper.shape)\n",
    "print(\"Y_train_upper:\",Y_train_upper.shape)\n",
    "\n",
    "\n",
    "print(\"X_test:\",X_test.shape)\n",
    "print(\"Y_test:\",Y_test.shape)"
   ]
  },
  {
   "cell_type": "code",
   "execution_count": 6,
   "metadata": {
    "scrolled": true
   },
   "outputs": [
    {
     "name": "stdout",
     "output_type": "stream",
     "text": [
      "Model: \"functional_3\"\n",
      "__________________________________________________________________________________________________\n",
      "Layer (type)                    Output Shape         Param #     Connected to                     \n",
      "==================================================================================================\n",
      "input_2 (InputLayer)            [(None, 1024, 2)]    0                                            \n",
      "__________________________________________________________________________________________________\n",
      "reshape_1 (Reshape)             (None, 1, 1024, 2)   0           input_2[0][0]                    \n",
      "__________________________________________________________________________________________________\n",
      "ReStk1_conv1 (Conv2D)           (None, 32, 1024, 2)  64          reshape_1[0][0]                  \n",
      "__________________________________________________________________________________________________\n",
      "ReStk1_conv2 (Conv2D)           (None, 32, 1024, 2)  6176        ReStk1_conv1[0][0]               \n",
      "__________________________________________________________________________________________________\n",
      "ReStk1_conv3 (Conv2D)           (None, 32, 1024, 2)  6176        ReStk1_conv2[0][0]               \n",
      "__________________________________________________________________________________________________\n",
      "add_12 (Add)                    (None, 32, 1024, 2)  0           ReStk1_conv3[0][0]               \n",
      "                                                                 ReStk1_conv1[0][0]               \n",
      "__________________________________________________________________________________________________\n",
      "activation_13 (Activation)      (None, 32, 1024, 2)  0           add_12[0][0]                     \n",
      "__________________________________________________________________________________________________\n",
      "ReStk1_conv4 (Conv2D)           (None, 32, 1024, 2)  6176        activation_13[0][0]              \n",
      "__________________________________________________________________________________________________\n",
      "ReStk1_conv5 (Conv2D)           (None, 32, 1024, 2)  6176        ReStk1_conv4[0][0]               \n",
      "__________________________________________________________________________________________________\n",
      "add_13 (Add)                    (None, 32, 1024, 2)  0           ReStk1_conv5[0][0]               \n",
      "                                                                 activation_13[0][0]              \n",
      "__________________________________________________________________________________________________\n",
      "activation_14 (Activation)      (None, 32, 1024, 2)  0           add_13[0][0]                     \n",
      "__________________________________________________________________________________________________\n",
      "max_pooling2d_6 (MaxPooling2D)  (None, 32, 512, 1)   0           activation_14[0][0]              \n",
      "__________________________________________________________________________________________________\n",
      "ReStk2_conv1 (Conv2D)           (None, 32, 512, 1)   1056        max_pooling2d_6[0][0]            \n",
      "__________________________________________________________________________________________________\n",
      "ReStk2_conv2 (Conv2D)           (None, 32, 512, 1)   6176        ReStk2_conv1[0][0]               \n",
      "__________________________________________________________________________________________________\n",
      "ReStk2_conv3 (Conv2D)           (None, 32, 512, 1)   6176        ReStk2_conv2[0][0]               \n",
      "__________________________________________________________________________________________________\n",
      "add_14 (Add)                    (None, 32, 512, 1)   0           ReStk2_conv3[0][0]               \n",
      "                                                                 ReStk2_conv1[0][0]               \n",
      "__________________________________________________________________________________________________\n",
      "activation_15 (Activation)      (None, 32, 512, 1)   0           add_14[0][0]                     \n",
      "__________________________________________________________________________________________________\n",
      "ReStk2_conv4 (Conv2D)           (None, 32, 512, 1)   6176        activation_15[0][0]              \n",
      "__________________________________________________________________________________________________\n",
      "ReStk2_conv5 (Conv2D)           (None, 32, 512, 1)   6176        ReStk2_conv4[0][0]               \n",
      "__________________________________________________________________________________________________\n",
      "add_15 (Add)                    (None, 32, 512, 1)   0           ReStk2_conv5[0][0]               \n",
      "                                                                 activation_15[0][0]              \n",
      "__________________________________________________________________________________________________\n",
      "activation_16 (Activation)      (None, 32, 512, 1)   0           add_15[0][0]                     \n",
      "__________________________________________________________________________________________________\n",
      "max_pooling2d_7 (MaxPooling2D)  (None, 32, 256, 1)   0           activation_16[0][0]              \n",
      "__________________________________________________________________________________________________\n",
      "ReStk3_conv1 (Conv2D)           (None, 32, 256, 1)   1056        max_pooling2d_7[0][0]            \n",
      "__________________________________________________________________________________________________\n",
      "ReStk3_conv2 (Conv2D)           (None, 32, 256, 1)   6176        ReStk3_conv1[0][0]               \n",
      "__________________________________________________________________________________________________\n",
      "ReStk3_conv3 (Conv2D)           (None, 32, 256, 1)   6176        ReStk3_conv2[0][0]               \n",
      "__________________________________________________________________________________________________\n",
      "add_16 (Add)                    (None, 32, 256, 1)   0           ReStk3_conv3[0][0]               \n",
      "                                                                 ReStk3_conv1[0][0]               \n",
      "__________________________________________________________________________________________________\n",
      "activation_17 (Activation)      (None, 32, 256, 1)   0           add_16[0][0]                     \n",
      "__________________________________________________________________________________________________\n",
      "ReStk3_conv4 (Conv2D)           (None, 32, 256, 1)   6176        activation_17[0][0]              \n",
      "__________________________________________________________________________________________________\n",
      "ReStk3_conv5 (Conv2D)           (None, 32, 256, 1)   6176        ReStk3_conv4[0][0]               \n",
      "__________________________________________________________________________________________________\n",
      "add_17 (Add)                    (None, 32, 256, 1)   0           ReStk3_conv5[0][0]               \n",
      "                                                                 activation_17[0][0]              \n",
      "__________________________________________________________________________________________________\n",
      "activation_18 (Activation)      (None, 32, 256, 1)   0           add_17[0][0]                     \n",
      "__________________________________________________________________________________________________\n",
      "max_pooling2d_8 (MaxPooling2D)  (None, 32, 128, 1)   0           activation_18[0][0]              \n",
      "__________________________________________________________________________________________________\n",
      "ReStk4_conv1 (Conv2D)           (None, 32, 128, 1)   1056        max_pooling2d_8[0][0]            \n",
      "__________________________________________________________________________________________________\n",
      "ReStk4_conv2 (Conv2D)           (None, 32, 128, 1)   6176        ReStk4_conv1[0][0]               \n",
      "__________________________________________________________________________________________________\n",
      "ReStk4_conv3 (Conv2D)           (None, 32, 128, 1)   6176        ReStk4_conv2[0][0]               \n",
      "__________________________________________________________________________________________________\n",
      "add_18 (Add)                    (None, 32, 128, 1)   0           ReStk4_conv3[0][0]               \n",
      "                                                                 ReStk4_conv1[0][0]               \n",
      "__________________________________________________________________________________________________\n",
      "activation_19 (Activation)      (None, 32, 128, 1)   0           add_18[0][0]                     \n",
      "__________________________________________________________________________________________________\n",
      "ReStk4_conv4 (Conv2D)           (None, 32, 128, 1)   6176        activation_19[0][0]              \n",
      "__________________________________________________________________________________________________\n",
      "ReStk4_conv5 (Conv2D)           (None, 32, 128, 1)   6176        ReStk4_conv4[0][0]               \n",
      "__________________________________________________________________________________________________\n",
      "add_19 (Add)                    (None, 32, 128, 1)   0           ReStk4_conv5[0][0]               \n",
      "                                                                 activation_19[0][0]              \n",
      "__________________________________________________________________________________________________\n",
      "activation_20 (Activation)      (None, 32, 128, 1)   0           add_19[0][0]                     \n",
      "__________________________________________________________________________________________________\n",
      "max_pooling2d_9 (MaxPooling2D)  (None, 32, 64, 1)    0           activation_20[0][0]              \n",
      "__________________________________________________________________________________________________\n",
      "ReStk5_conv1 (Conv2D)           (None, 32, 64, 1)    1056        max_pooling2d_9[0][0]            \n",
      "__________________________________________________________________________________________________\n",
      "ReStk5_conv2 (Conv2D)           (None, 32, 64, 1)    6176        ReStk5_conv1[0][0]               \n",
      "__________________________________________________________________________________________________\n",
      "ReStk5_conv3 (Conv2D)           (None, 32, 64, 1)    6176        ReStk5_conv2[0][0]               \n",
      "__________________________________________________________________________________________________\n",
      "add_20 (Add)                    (None, 32, 64, 1)    0           ReStk5_conv3[0][0]               \n",
      "                                                                 ReStk5_conv1[0][0]               \n",
      "__________________________________________________________________________________________________\n",
      "activation_21 (Activation)      (None, 32, 64, 1)    0           add_20[0][0]                     \n",
      "__________________________________________________________________________________________________\n",
      "ReStk5_conv4 (Conv2D)           (None, 32, 64, 1)    6176        activation_21[0][0]              \n",
      "__________________________________________________________________________________________________\n",
      "ReStk5_conv5 (Conv2D)           (None, 32, 64, 1)    6176        ReStk5_conv4[0][0]               \n",
      "__________________________________________________________________________________________________\n",
      "add_21 (Add)                    (None, 32, 64, 1)    0           ReStk5_conv5[0][0]               \n",
      "                                                                 activation_21[0][0]              \n",
      "__________________________________________________________________________________________________\n",
      "activation_22 (Activation)      (None, 32, 64, 1)    0           add_21[0][0]                     \n",
      "__________________________________________________________________________________________________\n",
      "max_pooling2d_10 (MaxPooling2D) (None, 32, 32, 1)    0           activation_22[0][0]              \n",
      "__________________________________________________________________________________________________\n",
      "ReStk6_conv1 (Conv2D)           (None, 32, 32, 1)    1056        max_pooling2d_10[0][0]           \n",
      "__________________________________________________________________________________________________\n",
      "ReStk6_conv2 (Conv2D)           (None, 32, 32, 1)    6176        ReStk6_conv1[0][0]               \n",
      "__________________________________________________________________________________________________\n",
      "ReStk6_conv3 (Conv2D)           (None, 32, 32, 1)    6176        ReStk6_conv2[0][0]               \n",
      "__________________________________________________________________________________________________\n",
      "add_22 (Add)                    (None, 32, 32, 1)    0           ReStk6_conv3[0][0]               \n",
      "                                                                 ReStk6_conv1[0][0]               \n",
      "__________________________________________________________________________________________________\n",
      "activation_23 (Activation)      (None, 32, 32, 1)    0           add_22[0][0]                     \n",
      "__________________________________________________________________________________________________\n",
      "ReStk6_conv4 (Conv2D)           (None, 32, 32, 1)    6176        activation_23[0][0]              \n",
      "__________________________________________________________________________________________________\n",
      "ReStk6_conv5 (Conv2D)           (None, 32, 32, 1)    6176        ReStk6_conv4[0][0]               \n",
      "__________________________________________________________________________________________________\n",
      "add_23 (Add)                    (None, 32, 32, 1)    0           ReStk6_conv5[0][0]               \n",
      "                                                                 activation_23[0][0]              \n",
      "__________________________________________________________________________________________________\n",
      "activation_24 (Activation)      (None, 32, 32, 1)    0           add_23[0][0]                     \n",
      "__________________________________________________________________________________________________\n",
      "max_pooling2d_11 (MaxPooling2D) (None, 32, 16, 1)    0           activation_24[0][0]              \n",
      "__________________________________________________________________________________________________\n",
      "flatten_1 (Flatten)             (None, 512)          0           max_pooling2d_11[0][0]           \n",
      "__________________________________________________________________________________________________\n",
      "dense1 (Dense)                  (None, 128)          65664       flatten_1[0][0]                  \n",
      "__________________________________________________________________________________________________\n",
      "alpha_dropout_2 (AlphaDropout)  (None, 128)          0           dense1[0][0]                     \n",
      "__________________________________________________________________________________________________\n",
      "dense2 (Dense)                  (None, 128)          16512       alpha_dropout_2[0][0]            \n",
      "__________________________________________________________________________________________________\n",
      "alpha_dropout_3 (AlphaDropout)  (None, 128)          0           dense2[0][0]                     \n",
      "__________________________________________________________________________________________________\n",
      "dense3 (Dense)                  (None, 24)           3096        alpha_dropout_3[0][0]            \n",
      "__________________________________________________________________________________________________\n",
      "activation_25 (Activation)      (None, 24)           0           dense3[0][0]                     \n",
      "==================================================================================================\n",
      "Total params: 238,840\n",
      "Trainable params: 238,840\n",
      "Non-trainable params: 0\n",
      "__________________________________________________________________________________________________\n"
     ]
    }
   ],
   "source": [
    "classes = ['32PSK',\n",
    " '16APSK',\n",
    " '32QAM',\n",
    " 'FM',\n",
    " 'GMSK',\n",
    " '32APSK',\n",
    " 'OQPSK',\n",
    " '8ASK',\n",
    " 'BPSK',\n",
    " '8PSK',\n",
    " 'AM-SSB-SC',\n",
    " '4ASK',\n",
    " '16PSK',\n",
    " '64APSK',\n",
    " '128QAM',\n",
    " '128APSK',\n",
    " 'AM-DSB-SC',\n",
    " 'AM-SSB-WC',\n",
    " '64QAM',\n",
    " 'QPSK',\n",
    " '256QAM',\n",
    " 'AM-DSB-WC',\n",
    " 'OOK',\n",
    " '16QAM']\n",
    "\n",
    "def residual_stack(X,Filters,Seq,max_pool):\n",
    "    #1*1 Conv Linear\n",
    "    X = Conv2D(Filters, (1, 1), padding='same', name=Seq+\"_conv1\", kernel_initializer='glorot_uniform',data_format=\"channels_first\")(X)\n",
    "    #Residual Unit 1\n",
    "    X_shortcut = X\n",
    "    X = Conv2D(Filters, (3, 2), padding='same',activation=\"relu\",name=Seq+\"_conv2\", kernel_initializer='glorot_uniform',data_format=\"channels_first\")(X)\n",
    "    X = Conv2D(Filters, (3, 2), padding='same', name=Seq+\"_conv3\", kernel_initializer='glorot_uniform',data_format=\"channels_first\")(X)\n",
    "    X = layers.add([X,X_shortcut])\n",
    "    X = Activation(\"relu\")(X)\n",
    "    #Residual Unit 2\n",
    "    X_shortcut = X\n",
    "    X = Conv2D(Filters, (3, 2), padding='same',activation=\"relu\",name=Seq+\"_conv4\", kernel_initializer='glorot_uniform',data_format=\"channels_first\")(X)\n",
    "    X = Conv2D(Filters, (3, 2), padding='same', name=Seq+\"_conv5\", kernel_initializer='glorot_uniform',data_format=\"channels_first\")(X)\n",
    "    X = layers.add([X,X_shortcut])\n",
    "    X = Activation(\"relu\")(X)\n",
    "    #MaxPooling\n",
    "    if max_pool:\n",
    "        X = MaxPooling2D(pool_size=(2, 1), strides=(2, 1), padding='valid', data_format=\"channels_first\")(X)\n",
    "    return X\n",
    "\n",
    "\n",
    "in_shp = X_train_upper.shape[1:]   #Dimensions of each sample\n",
    "#input layer\n",
    "X_input = Input(in_shp)\n",
    "X = Reshape([1,1024,2], input_shape=in_shp)(X_input)\n",
    "#Residual Srack 1\n",
    "X = residual_stack(X,32,\"ReStk1\",False)  #shape:(1,512,32)\n",
    "X = MaxPooling2D(pool_size=(2, 2), strides=(2, 1), padding='valid', data_format=\"channels_first\")(X)\n",
    "#Residual Srack 2\n",
    "X = residual_stack(X,32,\"ReStk2\",True)  #shape:(1,256,32)\n",
    "#Residual Srack 3\n",
    "X = residual_stack(X,32,\"ReStk3\",True)  #shape:(1,128,32)\n",
    "#Residual Srack 4\n",
    "X = residual_stack(X,32,\"ReStk4\",True)  #shape:(1,64,32)\n",
    "#Residual Srack 5\n",
    "X = residual_stack(X,32,\"ReStk5\",True)  #shape:(1,32,32)\n",
    "#Residual Srack 6\n",
    "X = residual_stack(X,32,\"ReStk6\",True)  #shape:(1,16,32)\n",
    "#Full Con 1\n",
    "X = Flatten()(X)\n",
    "X = Dense(128, activation='selu', kernel_initializer='he_normal', name=\"dense1\")(X)\n",
    "X = AlphaDropout(0.3)(X)\n",
    "#Full Con 2\n",
    "X = Dense(128, activation='selu', kernel_initializer='he_normal', name=\"dense2\")(X)\n",
    "X = AlphaDropout(0.3)(X)\n",
    "#Full Con 3\n",
    "X = Dense(len(classes), kernel_initializer='he_normal', name=\"dense3\")(X)\n",
    "#SoftMax\n",
    "X = Activation('softmax')(X)\n",
    "#Create Model\n",
    "model = Model.Model(inputs=X_input,outputs=X)\n",
    "model.compile(loss='categorical_crossentropy', optimizer='Adam',metrics=['accuracy'])\n",
    "model.summary()"
   ]
  },
  {
   "cell_type": "code",
   "execution_count": 5,
   "metadata": {},
   "outputs": [],
   "source": [
    "# from tensorflow.keras.utils import plot_model\n",
    "# plot_model(model, to_file='model_plot.png', show_shapes=True, show_layer_names=True)"
   ]
  },
  {
   "cell_type": "code",
   "execution_count": 8,
   "metadata": {
    "scrolled": true
   },
   "outputs": [
    {
     "name": "stdout",
     "output_type": "stream",
     "text": [
      "Epoch 1/100\n",
      "  2/381 [..............................] - ETA: 57s - loss: 4.0550 - accuracy: 0.0435WARNING:tensorflow:Callbacks method `on_train_batch_end` is slow compared to the batch time (batch time: 0.0888s vs `on_train_batch_end` time: 0.2142s). Check your callbacks.\n",
      "381/381 [==============================] - ETA: 0s - loss: 2.3686 - accuracy: 0.1935\n",
      "Epoch 00001: val_loss improved from inf to 2.07485, saving model to resnet_model_under.h5\n",
      "381/381 [==============================] - 126s 330ms/step - loss: 2.3686 - accuracy: 0.1935 - val_loss: 2.0749 - val_accuracy: 0.2477\n",
      "Epoch 2/100\n",
      "381/381 [==============================] - ETA: 0s - loss: 1.9845 - accuracy: 0.2752\n",
      "Epoch 00002: val_loss improved from 2.07485 to 1.92390, saving model to resnet_model_under.h5\n",
      "381/381 [==============================] - 127s 333ms/step - loss: 1.9845 - accuracy: 0.2752 - val_loss: 1.9239 - val_accuracy: 0.2923\n",
      "Epoch 3/100\n",
      "381/381 [==============================] - ETA: 0s - loss: 1.9024 - accuracy: 0.3054\n",
      "Epoch 00003: val_loss improved from 1.92390 to 1.90534, saving model to resnet_model_under.h5\n",
      "381/381 [==============================] - 128s 335ms/step - loss: 1.9024 - accuracy: 0.3054 - val_loss: 1.9053 - val_accuracy: 0.3087\n",
      "Epoch 4/100\n",
      "381/381 [==============================] - ETA: 0s - loss: 1.8430 - accuracy: 0.3268\n",
      "Epoch 00004: val_loss improved from 1.90534 to 1.86190, saving model to resnet_model_under.h5\n",
      "381/381 [==============================] - 131s 345ms/step - loss: 1.8430 - accuracy: 0.3268 - val_loss: 1.8619 - val_accuracy: 0.3246\n",
      "Epoch 5/100\n",
      "381/381 [==============================] - ETA: 0s - loss: 1.7999 - accuracy: 0.3420\n",
      "Epoch 00005: val_loss did not improve from 1.86190\n",
      "381/381 [==============================] - 129s 338ms/step - loss: 1.7999 - accuracy: 0.3420 - val_loss: 1.9217 - val_accuracy: 0.3368\n",
      "Epoch 6/100\n",
      "381/381 [==============================] - ETA: 0s - loss: 1.7634 - accuracy: 0.3577\n",
      "Epoch 00006: val_loss did not improve from 1.86190\n",
      "381/381 [==============================] - 129s 338ms/step - loss: 1.7634 - accuracy: 0.3577 - val_loss: 2.2361 - val_accuracy: 0.2797\n",
      "Epoch 7/100\n",
      "381/381 [==============================] - ETA: 0s - loss: 1.7498 - accuracy: 0.3641\n",
      "Epoch 00007: val_loss improved from 1.86190 to 1.66828, saving model to resnet_model_under.h5\n",
      "381/381 [==============================] - 130s 341ms/step - loss: 1.7498 - accuracy: 0.3641 - val_loss: 1.6683 - val_accuracy: 0.3924\n",
      "Epoch 8/100\n",
      "381/381 [==============================] - ETA: 0s - loss: 1.6671 - accuracy: 0.3905\n",
      "Epoch 00008: val_loss did not improve from 1.66828\n",
      "381/381 [==============================] - 127s 335ms/step - loss: 1.6671 - accuracy: 0.3905 - val_loss: 1.7136 - val_accuracy: 0.3952\n",
      "Epoch 9/100\n",
      "381/381 [==============================] - ETA: 0s - loss: 1.6350 - accuracy: 0.4007\n",
      "Epoch 00009: val_loss improved from 1.66828 to 1.64561, saving model to resnet_model_under.h5\n",
      "381/381 [==============================] - 126s 331ms/step - loss: 1.6350 - accuracy: 0.4007 - val_loss: 1.6456 - val_accuracy: 0.4085\n",
      "Epoch 10/100\n",
      "381/381 [==============================] - ETA: 0s - loss: 1.5972 - accuracy: 0.4140\n",
      "Epoch 00010: val_loss improved from 1.64561 to 1.64556, saving model to resnet_model_under.h5\n",
      "381/381 [==============================] - 126s 329ms/step - loss: 1.5972 - accuracy: 0.4140 - val_loss: 1.6456 - val_accuracy: 0.4202\n",
      "Epoch 11/100\n",
      "381/381 [==============================] - ETA: 0s - loss: 1.5714 - accuracy: 0.4227\n",
      "Epoch 00011: val_loss improved from 1.64556 to 1.61823, saving model to resnet_model_under.h5\n",
      "381/381 [==============================] - 129s 337ms/step - loss: 1.5714 - accuracy: 0.4227 - val_loss: 1.6182 - val_accuracy: 0.4313\n",
      "Epoch 12/100\n",
      "381/381 [==============================] - ETA: 0s - loss: 1.5435 - accuracy: 0.4314\n",
      "Epoch 00012: val_loss improved from 1.61823 to 1.61204, saving model to resnet_model_under.h5\n",
      "381/381 [==============================] - 127s 332ms/step - loss: 1.5435 - accuracy: 0.4314 - val_loss: 1.6120 - val_accuracy: 0.4317\n",
      "Epoch 13/100\n",
      "381/381 [==============================] - ETA: 0s - loss: 1.5314 - accuracy: 0.4367\n",
      "Epoch 00013: val_loss improved from 1.61204 to 1.54041, saving model to resnet_model_under.h5\n",
      "381/381 [==============================] - 126s 330ms/step - loss: 1.5314 - accuracy: 0.4367 - val_loss: 1.5404 - val_accuracy: 0.4486\n",
      "Epoch 14/100\n",
      "381/381 [==============================] - ETA: 0s - loss: 1.5003 - accuracy: 0.4467\n",
      "Epoch 00014: val_loss did not improve from 1.54041\n",
      "381/381 [==============================] - 125s 327ms/step - loss: 1.5003 - accuracy: 0.4467 - val_loss: 1.5425 - val_accuracy: 0.4463\n",
      "Epoch 15/100\n",
      "381/381 [==============================] - ETA: 0s - loss: 1.4931 - accuracy: 0.4509\n",
      "Epoch 00015: val_loss improved from 1.54041 to 1.49933, saving model to resnet_model_under.h5\n",
      "381/381 [==============================] - 125s 328ms/step - loss: 1.4931 - accuracy: 0.4509 - val_loss: 1.4993 - val_accuracy: 0.4562\n",
      "Epoch 16/100\n",
      "381/381 [==============================] - ETA: 0s - loss: 1.4781 - accuracy: 0.4553\n",
      "Epoch 00016: val_loss improved from 1.49933 to 1.49530, saving model to resnet_model_under.h5\n",
      "381/381 [==============================] - 126s 331ms/step - loss: 1.4781 - accuracy: 0.4553 - val_loss: 1.4953 - val_accuracy: 0.4601\n",
      "Epoch 17/100\n",
      "381/381 [==============================] - ETA: 0s - loss: 1.4621 - accuracy: 0.4610\n",
      "Epoch 00017: val_loss did not improve from 1.49530\n",
      "381/381 [==============================] - 125s 328ms/step - loss: 1.4621 - accuracy: 0.4610 - val_loss: 1.5134 - val_accuracy: 0.4613\n",
      "Epoch 18/100\n",
      "381/381 [==============================] - ETA: 0s - loss: 1.4572 - accuracy: 0.4642\n",
      "Epoch 00018: val_loss improved from 1.49530 to 1.45793, saving model to resnet_model_under.h5\n",
      "381/381 [==============================] - 126s 329ms/step - loss: 1.4572 - accuracy: 0.4642 - val_loss: 1.4579 - val_accuracy: 0.4745\n",
      "Epoch 19/100\n",
      "381/381 [==============================] - ETA: 0s - loss: 1.4533 - accuracy: 0.4651\n",
      "Epoch 00019: val_loss did not improve from 1.45793\n",
      "381/381 [==============================] - 125s 329ms/step - loss: 1.4533 - accuracy: 0.4651 - val_loss: 1.4998 - val_accuracy: 0.4656\n",
      "Epoch 20/100\n",
      "381/381 [==============================] - ETA: 0s - loss: 1.5153 - accuracy: 0.4452\n",
      "Epoch 00020: val_loss did not improve from 1.45793\n",
      "381/381 [==============================] - 125s 327ms/step - loss: 1.5153 - accuracy: 0.4452 - val_loss: 1.7018 - val_accuracy: 0.3789\n",
      "Epoch 21/100\n",
      "381/381 [==============================] - ETA: 0s - loss: 1.4915 - accuracy: 0.4527\n",
      "Epoch 00021: val_loss did not improve from 1.45793\n",
      "381/381 [==============================] - 125s 328ms/step - loss: 1.4915 - accuracy: 0.4527 - val_loss: 1.4696 - val_accuracy: 0.4691\n",
      "Epoch 22/100\n",
      "381/381 [==============================] - ETA: 0s - loss: 1.4241 - accuracy: 0.4767\n",
      "Epoch 00022: val_loss improved from 1.45793 to 1.43590, saving model to resnet_model_under.h5\n",
      "381/381 [==============================] - 127s 333ms/step - loss: 1.4241 - accuracy: 0.4767 - val_loss: 1.4359 - val_accuracy: 0.4797\n",
      "Epoch 23/100\n",
      "381/381 [==============================] - ETA: 0s - loss: 1.4167 - accuracy: 0.4808\n",
      "Epoch 00023: val_loss did not improve from 1.43590\n",
      "381/381 [==============================] - 124s 326ms/step - loss: 1.4167 - accuracy: 0.4808 - val_loss: 1.4794 - val_accuracy: 0.4796\n",
      "Epoch 24/100\n",
      "381/381 [==============================] - ETA: 0s - loss: 1.4086 - accuracy: 0.4861\n",
      "Epoch 00024: val_loss improved from 1.43590 to 1.42982, saving model to resnet_model_under.h5\n",
      "381/381 [==============================] - 125s 328ms/step - loss: 1.4086 - accuracy: 0.4861 - val_loss: 1.4298 - val_accuracy: 0.4868\n",
      "Epoch 25/100\n",
      "381/381 [==============================] - ETA: 0s - loss: 1.4002 - accuracy: 0.4921\n",
      "Epoch 00025: val_loss did not improve from 1.42982\n",
      "381/381 [==============================] - 124s 325ms/step - loss: 1.4002 - accuracy: 0.4921 - val_loss: 1.4569 - val_accuracy: 0.4795\n",
      "Epoch 26/100\n",
      "381/381 [==============================] - ETA: 0s - loss: 1.3773 - accuracy: 0.5026\n",
      "Epoch 00026: val_loss improved from 1.42982 to 1.39982, saving model to resnet_model_under.h5\n",
      "381/381 [==============================] - 124s 325ms/step - loss: 1.3773 - accuracy: 0.5026 - val_loss: 1.3998 - val_accuracy: 0.5125\n"
     ]
    },
    {
     "name": "stdout",
     "output_type": "stream",
     "text": [
      "Epoch 27/100\n",
      "381/381 [==============================] - ETA: 0s - loss: 1.3654 - accuracy: 0.5076\n",
      "Epoch 00027: val_loss did not improve from 1.39982\n",
      "381/381 [==============================] - 123s 324ms/step - loss: 1.3654 - accuracy: 0.5076 - val_loss: 1.4112 - val_accuracy: 0.5122\n",
      "Epoch 28/100\n",
      "381/381 [==============================] - ETA: 0s - loss: 1.3476 - accuracy: 0.5139\n",
      "Epoch 00028: val_loss improved from 1.39982 to 1.38201, saving model to resnet_model_under.h5\n",
      "381/381 [==============================] - 124s 326ms/step - loss: 1.3476 - accuracy: 0.5139 - val_loss: 1.3820 - val_accuracy: 0.5143\n",
      "Epoch 29/100\n",
      "381/381 [==============================] - ETA: 0s - loss: 1.3459 - accuracy: 0.5167\n",
      "Epoch 00029: val_loss improved from 1.38201 to 1.37644, saving model to resnet_model_under.h5\n",
      "381/381 [==============================] - 124s 326ms/step - loss: 1.3459 - accuracy: 0.5167 - val_loss: 1.3764 - val_accuracy: 0.5187\n",
      "Epoch 30/100\n",
      "381/381 [==============================] - ETA: 0s - loss: 1.3317 - accuracy: 0.5251\n",
      "Epoch 00030: val_loss improved from 1.37644 to 1.35162, saving model to resnet_model_under.h5\n",
      "381/381 [==============================] - 124s 326ms/step - loss: 1.3317 - accuracy: 0.5251 - val_loss: 1.3516 - val_accuracy: 0.5265\n",
      "Epoch 31/100\n",
      "381/381 [==============================] - ETA: 0s - loss: 1.3262 - accuracy: 0.5292\n",
      "Epoch 00031: val_loss did not improve from 1.35162\n",
      "381/381 [==============================] - 123s 324ms/step - loss: 1.3262 - accuracy: 0.5292 - val_loss: 1.3630 - val_accuracy: 0.5282\n",
      "Epoch 32/100\n",
      "381/381 [==============================] - ETA: 0s - loss: 1.3160 - accuracy: 0.5335\n",
      "Epoch 00032: val_loss did not improve from 1.35162\n",
      "381/381 [==============================] - 123s 324ms/step - loss: 1.3160 - accuracy: 0.5335 - val_loss: 1.3609 - val_accuracy: 0.5305\n",
      "Epoch 33/100\n",
      "381/381 [==============================] - ETA: 0s - loss: 1.3152 - accuracy: 0.5355\n",
      "Epoch 00033: val_loss improved from 1.35162 to 1.34448, saving model to resnet_model_under.h5\n",
      "381/381 [==============================] - 124s 325ms/step - loss: 1.3152 - accuracy: 0.5355 - val_loss: 1.3445 - val_accuracy: 0.5328\n",
      "Epoch 34/100\n",
      "381/381 [==============================] - ETA: 0s - loss: 1.3019 - accuracy: 0.5405\n",
      "Epoch 00034: val_loss did not improve from 1.34448\n",
      "381/381 [==============================] - 124s 325ms/step - loss: 1.3019 - accuracy: 0.5405 - val_loss: 1.3644 - val_accuracy: 0.5342\n",
      "Epoch 35/100\n",
      "381/381 [==============================] - ETA: 0s - loss: 1.3021 - accuracy: 0.5413\n",
      "Epoch 00035: val_loss improved from 1.34448 to 1.34179, saving model to resnet_model_under.h5\n",
      "381/381 [==============================] - 126s 331ms/step - loss: 1.3021 - accuracy: 0.5413 - val_loss: 1.3418 - val_accuracy: 0.5357\n",
      "Epoch 36/100\n",
      "381/381 [==============================] - ETA: 0s - loss: 1.2990 - accuracy: 0.5426\n",
      "Epoch 00036: val_loss improved from 1.34179 to 1.32244, saving model to resnet_model_under.h5\n",
      "381/381 [==============================] - 125s 328ms/step - loss: 1.2990 - accuracy: 0.5426 - val_loss: 1.3224 - val_accuracy: 0.5396\n",
      "Epoch 37/100\n",
      "381/381 [==============================] - ETA: 0s - loss: 1.2862 - accuracy: 0.5486\n",
      "Epoch 00037: val_loss improved from 1.32244 to 1.31358, saving model to resnet_model_under.h5\n",
      "381/381 [==============================] - 124s 327ms/step - loss: 1.2862 - accuracy: 0.5486 - val_loss: 1.3136 - val_accuracy: 0.5480\n",
      "Epoch 38/100\n",
      "381/381 [==============================] - ETA: 0s - loss: 1.2866 - accuracy: 0.5473\n",
      "Epoch 00038: val_loss did not improve from 1.31358\n",
      "381/381 [==============================] - 123s 324ms/step - loss: 1.2866 - accuracy: 0.5473 - val_loss: 1.3410 - val_accuracy: 0.5406\n",
      "Epoch 39/100\n",
      "381/381 [==============================] - ETA: 0s - loss: 1.2973 - accuracy: 0.5428\n",
      "Epoch 00039: val_loss did not improve from 1.31358\n",
      "381/381 [==============================] - 123s 324ms/step - loss: 1.2973 - accuracy: 0.5428 - val_loss: 1.3224 - val_accuracy: 0.5486\n",
      "Epoch 40/100\n",
      "381/381 [==============================] - ETA: 0s - loss: 1.2705 - accuracy: 0.5538\n",
      "Epoch 00040: val_loss did not improve from 1.31358\n",
      "381/381 [==============================] - 124s 324ms/step - loss: 1.2705 - accuracy: 0.5538 - val_loss: 1.3295 - val_accuracy: 0.5492\n",
      "Epoch 41/100\n",
      "381/381 [==============================] - ETA: 0s - loss: 1.2725 - accuracy: 0.5534\n",
      "Epoch 00041: val_loss did not improve from 1.31358\n",
      "381/381 [==============================] - 124s 325ms/step - loss: 1.2725 - accuracy: 0.5534 - val_loss: 1.3212 - val_accuracy: 0.5475\n",
      "Epoch 42/100\n",
      "381/381 [==============================] - ETA: 0s - loss: 1.2649 - accuracy: 0.5569\n",
      "Epoch 00042: val_loss improved from 1.31358 to 1.29985, saving model to resnet_model_under.h5\n",
      "381/381 [==============================] - 124s 326ms/step - loss: 1.2649 - accuracy: 0.5569 - val_loss: 1.2999 - val_accuracy: 0.5467\n",
      "Epoch 43/100\n",
      "381/381 [==============================] - ETA: 0s - loss: 1.2603 - accuracy: 0.5579\n",
      "Epoch 00043: val_loss did not improve from 1.29985\n",
      "381/381 [==============================] - 123s 324ms/step - loss: 1.2603 - accuracy: 0.5579 - val_loss: 1.3211 - val_accuracy: 0.5574\n",
      "Epoch 44/100\n",
      "381/381 [==============================] - ETA: 0s - loss: 1.2558 - accuracy: 0.5598\n",
      "Epoch 00044: val_loss did not improve from 1.29985\n",
      "381/381 [==============================] - 124s 325ms/step - loss: 1.2558 - accuracy: 0.5598 - val_loss: 1.3184 - val_accuracy: 0.5507\n",
      "Epoch 45/100\n",
      "381/381 [==============================] - ETA: 0s - loss: 1.2492 - accuracy: 0.5620\n",
      "Epoch 00045: val_loss improved from 1.29985 to 1.28404, saving model to resnet_model_under.h5\n",
      "381/381 [==============================] - 125s 327ms/step - loss: 1.2492 - accuracy: 0.5620 - val_loss: 1.2840 - val_accuracy: 0.5567\n",
      "Epoch 46/100\n",
      "381/381 [==============================] - ETA: 0s - loss: 1.2536 - accuracy: 0.5613\n",
      "Epoch 00046: val_loss did not improve from 1.28404\n",
      "381/381 [==============================] - 124s 325ms/step - loss: 1.2536 - accuracy: 0.5613 - val_loss: 1.3289 - val_accuracy: 0.5468\n",
      "Epoch 47/100\n",
      "381/381 [==============================] - ETA: 0s - loss: 1.2536 - accuracy: 0.5605\n",
      "Epoch 00047: val_loss did not improve from 1.28404\n",
      "381/381 [==============================] - 124s 325ms/step - loss: 1.2536 - accuracy: 0.5605 - val_loss: 1.3019 - val_accuracy: 0.5561\n",
      "Epoch 48/100\n",
      "381/381 [==============================] - ETA: 0s - loss: 1.3404 - accuracy: 0.5267\n",
      "Epoch 00048: val_loss did not improve from 1.28404\n",
      "381/381 [==============================] - 123s 323ms/step - loss: 1.3404 - accuracy: 0.5267 - val_loss: 1.3112 - val_accuracy: 0.5466\n",
      "Epoch 49/100\n",
      "381/381 [==============================] - ETA: 0s - loss: 1.2510 - accuracy: 0.5615\n",
      "Epoch 00049: val_loss did not improve from 1.28404\n",
      "381/381 [==============================] - 123s 324ms/step - loss: 1.2510 - accuracy: 0.5615 - val_loss: 1.3085 - val_accuracy: 0.5561\n",
      "Epoch 50/100\n",
      "381/381 [==============================] - ETA: 0s - loss: 1.2365 - accuracy: 0.5669\n",
      "Epoch 00050: val_loss improved from 1.28404 to 1.26987, saving model to resnet_model_under.h5\n",
      "381/381 [==============================] - 124s 326ms/step - loss: 1.2365 - accuracy: 0.5669 - val_loss: 1.2699 - val_accuracy: 0.5572\n",
      "Epoch 51/100\n",
      "381/381 [==============================] - ETA: 0s - loss: 1.2371 - accuracy: 0.5658\n",
      "Epoch 00051: val_loss did not improve from 1.26987\n",
      "381/381 [==============================] - 123s 322ms/step - loss: 1.2371 - accuracy: 0.5658 - val_loss: 1.2717 - val_accuracy: 0.5602\n",
      "Epoch 52/100\n",
      "381/381 [==============================] - ETA: 0s - loss: 1.2360 - accuracy: 0.5674\n",
      "Epoch 00052: val_loss did not improve from 1.26987\n",
      "381/381 [==============================] - 124s 325ms/step - loss: 1.2360 - accuracy: 0.5674 - val_loss: 1.2801 - val_accuracy: 0.5602\n",
      "Epoch 53/100\n",
      "381/381 [==============================] - ETA: 0s - loss: 1.2322 - accuracy: 0.5695\n",
      "Epoch 00053: val_loss did not improve from 1.26987\n",
      "381/381 [==============================] - 123s 323ms/step - loss: 1.2322 - accuracy: 0.5695 - val_loss: 1.3032 - val_accuracy: 0.5567\n",
      "Epoch 54/100\n"
     ]
    },
    {
     "name": "stdout",
     "output_type": "stream",
     "text": [
      "381/381 [==============================] - ETA: 0s - loss: 1.2342 - accuracy: 0.5682\n",
      "Epoch 00054: val_loss did not improve from 1.26987\n",
      "381/381 [==============================] - 123s 324ms/step - loss: 1.2342 - accuracy: 0.5682 - val_loss: 1.3064 - val_accuracy: 0.5538\n",
      "Epoch 55/100\n",
      "381/381 [==============================] - ETA: 0s - loss: 1.2358 - accuracy: 0.5678\n",
      "Epoch 00055: val_loss did not improve from 1.26987\n",
      "381/381 [==============================] - 124s 324ms/step - loss: 1.2358 - accuracy: 0.5678 - val_loss: 1.3094 - val_accuracy: 0.5583\n",
      "Epoch 56/100\n",
      "381/381 [==============================] - ETA: 0s - loss: 1.2220 - accuracy: 0.5734\n",
      "Epoch 00056: val_loss did not improve from 1.26987\n",
      "381/381 [==============================] - 123s 323ms/step - loss: 1.2220 - accuracy: 0.5734 - val_loss: 1.2751 - val_accuracy: 0.5692\n",
      "Epoch 57/100\n",
      "381/381 [==============================] - ETA: 0s - loss: 1.2265 - accuracy: 0.5721\n",
      "Epoch 00057: val_loss did not improve from 1.26987\n",
      "381/381 [==============================] - 123s 322ms/step - loss: 1.2265 - accuracy: 0.5721 - val_loss: 1.2836 - val_accuracy: 0.5568\n",
      "Epoch 58/100\n",
      "381/381 [==============================] - ETA: 0s - loss: 1.2238 - accuracy: 0.5731\n",
      "Epoch 00058: val_loss did not improve from 1.26987\n",
      "381/381 [==============================] - 123s 323ms/step - loss: 1.2238 - accuracy: 0.5731 - val_loss: 1.3312 - val_accuracy: 0.5662\n",
      "Epoch 59/100\n",
      "381/381 [==============================] - ETA: 0s - loss: 1.2215 - accuracy: 0.5751\n",
      "Epoch 00059: val_loss did not improve from 1.26987\n",
      "381/381 [==============================] - 123s 324ms/step - loss: 1.2215 - accuracy: 0.5751 - val_loss: 1.3372 - val_accuracy: 0.5658\n",
      "Epoch 60/100\n",
      "381/381 [==============================] - ETA: 0s - loss: 1.2127 - accuracy: 0.5790\n",
      "Epoch 00060: val_loss did not improve from 1.26987\n",
      "381/381 [==============================] - 123s 323ms/step - loss: 1.2127 - accuracy: 0.5790 - val_loss: 1.3311 - val_accuracy: 0.5475\n",
      "Epoch 00060: early stopping\n"
     ]
    }
   ],
   "source": [
    "filepath = 'resnet_model_under.h5'\n",
    "history = model.fit(X_train_under,\n",
    "    Y_train_under,\n",
    "    batch_size=1024,\n",
    "    epochs=100,\n",
    "    verbose=1,\n",
    "#     validation_data=(X_test, Y_test),\n",
    "    validation_split = 0.2,\n",
    "    callbacks = [\n",
    "        tf.keras.callbacks.ModelCheckpoint(filepath, monitor='val_loss', verbose=1, save_best_only=True, mode='auto'),\n",
    "        tf.keras.callbacks.EarlyStopping(monitor='val_loss', patience=10, verbose=1, mode='auto')\n",
    "    ])"
   ]
  },
  {
   "cell_type": "code",
   "execution_count": 9,
   "metadata": {},
   "outputs": [
    {
     "data": {
      "image/png": "[encoded data removed]",
      "text/plain": [
       "<Figure size 1440x432 with 2 Axes>"
      ]
     },
     "metadata": {
      "needs_background": "light"
     },
     "output_type": "display_data"
    }
   ],
   "source": [
    "fig, ((ax1, ax2)) = plt.subplots(nrows=1, ncols=2,figsize=(20,6))\n",
    "\n",
    "ax1.plot(history.history['accuracy'],'b', history.history['val_accuracy'], 'r')\n",
    "ax1.set_ylabel('Accuracy Rate',fontsize=12)\n",
    "ax1.set_xlabel('Iteration',fontsize=12)\n",
    "ax1.set_title('Categorical Cross Entropy ',fontsize=14)\n",
    "ax1.legend(['Training Accuracy','Validation Accuracy'],fontsize=12,loc='best')\n",
    "\n",
    "ax2.plot(history.history['loss'], 'b',history.history['val_loss'],'r')\n",
    "ax2.set_ylabel('Loss',fontsize=12)\n",
    "ax2.set_xlabel('Iteration',fontsize=12)\n",
    "ax2.set_title('Learning Curve ',fontsize=14)\n",
    "ax2.legend(['Training Loss','Validation Loss'],fontsize=12,loc='best')\n",
    "\n",
    "# plt.savefig('crosse_results.png')\n",
    "plt.show()"
   ]
  },
  {
   "cell_type": "code",
   "execution_count": 10,
   "metadata": {},
   "outputs": [
    {
     "data": {
      "image/png": "[encoded data removed]",
      "text/plain": [
       "<Figure size 720x720 with 2 Axes>"
      ]
     },
     "metadata": {
      "needs_background": "light"
     },
     "output_type": "display_data"
    }
   ],
   "source": [
    "def plot_confusion_matrix(cm, title='Confusion matrix', cmap=plt.cm.Blues, labels=[]):\n",
    "    plt.figure(figsize=(10, 10))\n",
    "    plt.imshow(cm, interpolation='nearest', cmap=cmap)\n",
    "    plt.title(title)\n",
    "    plt.colorbar()\n",
    "    tick_marks = np.arange(len(labels))\n",
    "    plt.xticks(tick_marks, labels, rotation=45)\n",
    "    plt.yticks(tick_marks, labels)\n",
    "    plt.tight_layout()\n",
    "    plt.ylabel('True label')\n",
    "    plt.xlabel('Predicted label')\n",
    "# Plot confusion matrix\n",
    "batch_size = 1024\n",
    "test_Y_hat = model.predict(X_test, batch_size=3000)\n",
    "conf = np.zeros([len(classes),len(classes)])\n",
    "confnorm = np.zeros([len(classes),len(classes)])\n",
    "for i in range(0,X_test.shape[0]):\n",
    "    j = list(Y_test[i,:]).index(1)\n",
    "    k = int(np.argmax(test_Y_hat[i,:]))\n",
    "    conf[j,k] = conf[j,k] + 1\n",
    "for i in range(0,len(classes)):\n",
    "    confnorm[i,:] = conf[i,:] / np.sum(conf[i,:])\n",
    "plot_confusion_matrix(confnorm, labels=classes)"
   ]
  },
  {
   "cell_type": "code",
   "execution_count": 11,
   "metadata": {},
   "outputs": [
    {
     "name": "stdout",
     "output_type": "stream",
     "text": [
      "32PSK 0.725222601314804\n",
      "16APSK 0.6685255597803126\n",
      "32QAM 0.6154291384157433\n",
      "FM 0.969517287456155\n",
      "GMSK 0.6306254136333554\n",
      "32APSK 0.6288487282463187\n",
      "OQPSK 0.4744615892400363\n",
      "8ASK 0.49588631264023936\n",
      "BPSK 0.6334986133288512\n",
      "8PSK 0.654119788219722\n",
      "AM-SSB-SC 0.5290594685786588\n",
      "4ASK 0.5162195625257945\n",
      "16PSK 0.5302174995849245\n",
      "64APSK 0.4588284871470712\n",
      "128QAM 0.33711738984191053\n",
      "128APSK 0.47069689336691856\n",
      "AM-DSB-SC 0.2926870461070765\n",
      "AM-SSB-WC 0.14681716325006225\n",
      "64QAM 0.6809449848769721\n",
      "QPSK 0.7270682329417646\n",
      "256QAM 0.0\n",
      "AM-DSB-WC 0.0\n",
      "OOK 0.0\n",
      "16QAM 0.0\n"
     ]
    }
   ],
   "source": [
    "for i in range(len(confnorm)):\n",
    "    print(classes[i],confnorm[i,i])"
   ]
  },
  {
   "cell_type": "code",
   "execution_count": 16,
   "metadata": {},
   "outputs": [
    {
     "name": "stdout",
     "output_type": "stream",
     "text": [
      "Model: \"functional_9\"\n",
      "__________________________________________________________________________________________________\n",
      "Layer (type)                    Output Shape         Param #     Connected to                     \n",
      "==================================================================================================\n",
      "input_2 (InputLayer)            [(None, 1024, 2)]    0                                            \n",
      "__________________________________________________________________________________________________\n",
      "reshape_1 (Reshape)             (None, 1, 1024, 2)   0           input_2[0][0]                    \n",
      "__________________________________________________________________________________________________\n",
      "ReStk1_conv1 (Conv2D)           (None, 32, 1024, 2)  64          reshape_1[0][0]                  \n",
      "__________________________________________________________________________________________________\n",
      "ReStk1_conv2 (Conv2D)           (None, 32, 1024, 2)  6176        ReStk1_conv1[0][0]               \n",
      "__________________________________________________________________________________________________\n",
      "ReStk1_conv3 (Conv2D)           (None, 32, 1024, 2)  6176        ReStk1_conv2[0][0]               \n",
      "__________________________________________________________________________________________________\n",
      "add_12 (Add)                    (None, 32, 1024, 2)  0           ReStk1_conv3[0][0]               \n",
      "                                                                 ReStk1_conv1[0][0]               \n",
      "__________________________________________________________________________________________________\n",
      "activation_13 (Activation)      (None, 32, 1024, 2)  0           add_12[0][0]                     \n",
      "__________________________________________________________________________________________________\n",
      "ReStk1_conv4 (Conv2D)           (None, 32, 1024, 2)  6176        activation_13[0][0]              \n",
      "__________________________________________________________________________________________________\n",
      "ReStk1_conv5 (Conv2D)           (None, 32, 1024, 2)  6176        ReStk1_conv4[0][0]               \n",
      "__________________________________________________________________________________________________\n",
      "add_13 (Add)                    (None, 32, 1024, 2)  0           ReStk1_conv5[0][0]               \n",
      "                                                                 activation_13[0][0]              \n",
      "__________________________________________________________________________________________________\n",
      "activation_14 (Activation)      (None, 32, 1024, 2)  0           add_13[0][0]                     \n",
      "__________________________________________________________________________________________________\n",
      "max_pooling2d_6 (MaxPooling2D)  (None, 32, 512, 1)   0           activation_14[0][0]              \n",
      "__________________________________________________________________________________________________\n",
      "ReStk2_conv1 (Conv2D)           (None, 32, 512, 1)   1056        max_pooling2d_6[0][0]            \n",
      "__________________________________________________________________________________________________\n",
      "ReStk2_conv2 (Conv2D)           (None, 32, 512, 1)   6176        ReStk2_conv1[0][0]               \n",
      "__________________________________________________________________________________________________\n",
      "ReStk2_conv3 (Conv2D)           (None, 32, 512, 1)   6176        ReStk2_conv2[0][0]               \n",
      "__________________________________________________________________________________________________\n",
      "add_14 (Add)                    (None, 32, 512, 1)   0           ReStk2_conv3[0][0]               \n",
      "                                                                 ReStk2_conv1[0][0]               \n",
      "__________________________________________________________________________________________________\n",
      "activation_15 (Activation)      (None, 32, 512, 1)   0           add_14[0][0]                     \n",
      "__________________________________________________________________________________________________\n",
      "ReStk2_conv4 (Conv2D)           (None, 32, 512, 1)   6176        activation_15[0][0]              \n",
      "__________________________________________________________________________________________________\n",
      "ReStk2_conv5 (Conv2D)           (None, 32, 512, 1)   6176        ReStk2_conv4[0][0]               \n",
      "__________________________________________________________________________________________________\n",
      "add_15 (Add)                    (None, 32, 512, 1)   0           ReStk2_conv5[0][0]               \n",
      "                                                                 activation_15[0][0]              \n",
      "__________________________________________________________________________________________________\n",
      "activation_16 (Activation)      (None, 32, 512, 1)   0           add_15[0][0]                     \n",
      "__________________________________________________________________________________________________\n",
      "max_pooling2d_7 (MaxPooling2D)  (None, 32, 256, 1)   0           activation_16[0][0]              \n",
      "__________________________________________________________________________________________________\n",
      "ReStk3_conv1 (Conv2D)           (None, 32, 256, 1)   1056        max_pooling2d_7[0][0]            \n",
      "__________________________________________________________________________________________________\n",
      "ReStk3_conv2 (Conv2D)           (None, 32, 256, 1)   6176        ReStk3_conv1[0][0]               \n",
      "__________________________________________________________________________________________________\n",
      "ReStk3_conv3 (Conv2D)           (None, 32, 256, 1)   6176        ReStk3_conv2[0][0]               \n",
      "__________________________________________________________________________________________________\n",
      "add_16 (Add)                    (None, 32, 256, 1)   0           ReStk3_conv3[0][0]               \n",
      "                                                                 ReStk3_conv1[0][0]               \n",
      "__________________________________________________________________________________________________\n",
      "activation_17 (Activation)      (None, 32, 256, 1)   0           add_16[0][0]                     \n",
      "__________________________________________________________________________________________________\n",
      "ReStk3_conv4 (Conv2D)           (None, 32, 256, 1)   6176        activation_17[0][0]              \n",
      "__________________________________________________________________________________________________\n",
      "ReStk3_conv5 (Conv2D)           (None, 32, 256, 1)   6176        ReStk3_conv4[0][0]               \n",
      "__________________________________________________________________________________________________\n",
      "add_17 (Add)                    (None, 32, 256, 1)   0           ReStk3_conv5[0][0]               \n",
      "                                                                 activation_17[0][0]              \n",
      "__________________________________________________________________________________________________\n",
      "activation_18 (Activation)      (None, 32, 256, 1)   0           add_17[0][0]                     \n",
      "__________________________________________________________________________________________________\n",
      "max_pooling2d_8 (MaxPooling2D)  (None, 32, 128, 1)   0           activation_18[0][0]              \n",
      "__________________________________________________________________________________________________\n",
      "ReStk4_conv1 (Conv2D)           (None, 32, 128, 1)   1056        max_pooling2d_8[0][0]            \n",
      "__________________________________________________________________________________________________\n",
      "ReStk4_conv2 (Conv2D)           (None, 32, 128, 1)   6176        ReStk4_conv1[0][0]               \n",
      "__________________________________________________________________________________________________\n",
      "ReStk4_conv3 (Conv2D)           (None, 32, 128, 1)   6176        ReStk4_conv2[0][0]               \n",
      "__________________________________________________________________________________________________\n",
      "add_18 (Add)                    (None, 32, 128, 1)   0           ReStk4_conv3[0][0]               \n",
      "                                                                 ReStk4_conv1[0][0]               \n",
      "__________________________________________________________________________________________________\n",
      "activation_19 (Activation)      (None, 32, 128, 1)   0           add_18[0][0]                     \n",
      "__________________________________________________________________________________________________\n",
      "ReStk4_conv4 (Conv2D)           (None, 32, 128, 1)   6176        activation_19[0][0]              \n",
      "__________________________________________________________________________________________________\n",
      "ReStk4_conv5 (Conv2D)           (None, 32, 128, 1)   6176        ReStk4_conv4[0][0]               \n",
      "__________________________________________________________________________________________________\n",
      "add_19 (Add)                    (None, 32, 128, 1)   0           ReStk4_conv5[0][0]               \n",
      "                                                                 activation_19[0][0]              \n",
      "__________________________________________________________________________________________________\n",
      "activation_20 (Activation)      (None, 32, 128, 1)   0           add_19[0][0]                     \n",
      "__________________________________________________________________________________________________\n",
      "max_pooling2d_9 (MaxPooling2D)  (None, 32, 64, 1)    0           activation_20[0][0]              \n",
      "__________________________________________________________________________________________________\n",
      "ReStk5_conv1 (Conv2D)           (None, 32, 64, 1)    1056        max_pooling2d_9[0][0]            \n",
      "__________________________________________________________________________________________________\n",
      "ReStk5_conv2 (Conv2D)           (None, 32, 64, 1)    6176        ReStk5_conv1[0][0]               \n",
      "__________________________________________________________________________________________________\n",
      "ReStk5_conv3 (Conv2D)           (None, 32, 64, 1)    6176        ReStk5_conv2[0][0]               \n",
      "__________________________________________________________________________________________________\n",
      "add_20 (Add)                    (None, 32, 64, 1)    0           ReStk5_conv3[0][0]               \n",
      "                                                                 ReStk5_conv1[0][0]               \n",
      "__________________________________________________________________________________________________\n",
      "activation_21 (Activation)      (None, 32, 64, 1)    0           add_20[0][0]                     \n",
      "__________________________________________________________________________________________________\n",
      "ReStk5_conv4 (Conv2D)           (None, 32, 64, 1)    6176        activation_21[0][0]              \n",
      "__________________________________________________________________________________________________\n",
      "ReStk5_conv5 (Conv2D)           (None, 32, 64, 1)    6176        ReStk5_conv4[0][0]               \n",
      "__________________________________________________________________________________________________\n",
      "add_21 (Add)                    (None, 32, 64, 1)    0           ReStk5_conv5[0][0]               \n",
      "                                                                 activation_21[0][0]              \n",
      "__________________________________________________________________________________________________\n",
      "activation_22 (Activation)      (None, 32, 64, 1)    0           add_21[0][0]                     \n",
      "__________________________________________________________________________________________________\n",
      "max_pooling2d_10 (MaxPooling2D) (None, 32, 32, 1)    0           activation_22[0][0]              \n",
      "__________________________________________________________________________________________________\n",
      "ReStk6_conv1 (Conv2D)           (None, 32, 32, 1)    1056        max_pooling2d_10[0][0]           \n",
      "__________________________________________________________________________________________________\n",
      "ReStk6_conv2 (Conv2D)           (None, 32, 32, 1)    6176        ReStk6_conv1[0][0]               \n",
      "__________________________________________________________________________________________________\n",
      "ReStk6_conv3 (Conv2D)           (None, 32, 32, 1)    6176        ReStk6_conv2[0][0]               \n",
      "__________________________________________________________________________________________________\n",
      "add_22 (Add)                    (None, 32, 32, 1)    0           ReStk6_conv3[0][0]               \n",
      "                                                                 ReStk6_conv1[0][0]               \n",
      "__________________________________________________________________________________________________\n",
      "activation_23 (Activation)      (None, 32, 32, 1)    0           add_22[0][0]                     \n",
      "__________________________________________________________________________________________________\n",
      "ReStk6_conv4 (Conv2D)           (None, 32, 32, 1)    6176        activation_23[0][0]              \n",
      "__________________________________________________________________________________________________\n",
      "ReStk6_conv5 (Conv2D)           (None, 32, 32, 1)    6176        ReStk6_conv4[0][0]               \n",
      "__________________________________________________________________________________________________\n",
      "add_23 (Add)                    (None, 32, 32, 1)    0           ReStk6_conv5[0][0]               \n",
      "                                                                 activation_23[0][0]              \n",
      "__________________________________________________________________________________________________\n",
      "activation_24 (Activation)      (None, 32, 32, 1)    0           add_23[0][0]                     \n",
      "__________________________________________________________________________________________________\n",
      "max_pooling2d_11 (MaxPooling2D) (None, 32, 16, 1)    0           activation_24[0][0]              \n",
      "__________________________________________________________________________________________________\n",
      "flatten_1 (Flatten)             (None, 512)          0           max_pooling2d_11[0][0]           \n",
      "__________________________________________________________________________________________________\n",
      "dense1 (Dense)                  (None, 128)          65664       flatten_1[0][0]                  \n",
      "__________________________________________________________________________________________________\n",
      "alpha_dropout_2 (AlphaDropout)  (None, 128)          0           dense1[0][0]                     \n",
      "__________________________________________________________________________________________________\n",
      "dense2 (Dense)                  (None, 128)          16512       alpha_dropout_2[0][0]            \n",
      "__________________________________________________________________________________________________\n",
      "alpha_dropout_3 (AlphaDropout)  (None, 128)          0           dense2[0][0]                     \n",
      "__________________________________________________________________________________________________\n",
      "dense3 (Dense)                  (None, 24)           3096        alpha_dropout_3[0][0]            \n",
      "__________________________________________________________________________________________________\n",
      "activation_25 (Activation)      (None, 24)           0           dense3[0][0]                     \n",
      "==================================================================================================\n",
      "Total params: 238,840\n",
      "Trainable params: 238,840\n",
      "Non-trainable params: 0\n",
      "__________________________________________________________________________________________________\n"
     ]
    }
   ],
   "source": [
    "model2 = Model.Model(inputs=X_input,outputs=X)\n",
    "model2.compile(loss='categorical_crossentropy', optimizer='Adam',metrics=['accuracy'])\n",
    "model2.summary()"
   ]
  },
  {
   "cell_type": "code",
   "execution_count": 17,
   "metadata": {},
   "outputs": [
    {
     "name": "stdout",
     "output_type": "stream",
     "text": [
      "Epoch 1/100\n",
      "  2/520 [..............................] - ETA: 1:16 - loss: 1.3292 - accuracy: 0.5762WARNING:tensorflow:Callbacks method `on_train_batch_end` is slow compared to the batch time (batch time: 0.0898s vs `on_train_batch_end` time: 0.2075s). Check your callbacks.\n",
      " 58/520 [==>...........................] - ETA: 2:16 - loss: 1.1416 - accuracy: 0.6017"
     ]
    },
    {
     "ename": "KeyboardInterrupt",
     "evalue": "",
     "output_type": "error",
     "traceback": [
      "\u001b[1;31m---------------------------------------------------------------------------\u001b[0m",
      "\u001b[1;31mKeyboardInterrupt\u001b[0m                         Traceback (most recent call last)",
      "\u001b[1;32m<ipython-input-17-d87626214e8b>\u001b[0m in \u001b[0;36m<module>\u001b[1;34m\u001b[0m\n\u001b[0;32m      9\u001b[0m     callbacks = [\n\u001b[0;32m     10\u001b[0m         \u001b[0mtf\u001b[0m\u001b[1;33m.\u001b[0m\u001b[0mkeras\u001b[0m\u001b[1;33m.\u001b[0m\u001b[0mcallbacks\u001b[0m\u001b[1;33m.\u001b[0m\u001b[0mModelCheckpoint\u001b[0m\u001b[1;33m(\u001b[0m\u001b[0mfilepath\u001b[0m\u001b[1;33m,\u001b[0m \u001b[0mmonitor\u001b[0m\u001b[1;33m=\u001b[0m\u001b[1;34m'val_loss'\u001b[0m\u001b[1;33m,\u001b[0m \u001b[0mverbose\u001b[0m\u001b[1;33m=\u001b[0m\u001b[1;36m1\u001b[0m\u001b[1;33m,\u001b[0m \u001b[0msave_best_only\u001b[0m\u001b[1;33m=\u001b[0m\u001b[1;32mTrue\u001b[0m\u001b[1;33m,\u001b[0m \u001b[0mmode\u001b[0m\u001b[1;33m=\u001b[0m\u001b[1;34m'auto'\u001b[0m\u001b[1;33m)\u001b[0m\u001b[1;33m,\u001b[0m\u001b[1;33m\u001b[0m\u001b[1;33m\u001b[0m\u001b[0m\n\u001b[1;32m---> 11\u001b[1;33m         \u001b[0mtf\u001b[0m\u001b[1;33m.\u001b[0m\u001b[0mkeras\u001b[0m\u001b[1;33m.\u001b[0m\u001b[0mcallbacks\u001b[0m\u001b[1;33m.\u001b[0m\u001b[0mEarlyStopping\u001b[0m\u001b[1;33m(\u001b[0m\u001b[0mmonitor\u001b[0m\u001b[1;33m=\u001b[0m\u001b[1;34m'val_loss'\u001b[0m\u001b[1;33m,\u001b[0m \u001b[0mpatience\u001b[0m\u001b[1;33m=\u001b[0m\u001b[1;36m10\u001b[0m\u001b[1;33m,\u001b[0m \u001b[0mverbose\u001b[0m\u001b[1;33m=\u001b[0m\u001b[1;36m1\u001b[0m\u001b[1;33m,\u001b[0m \u001b[0mmode\u001b[0m\u001b[1;33m=\u001b[0m\u001b[1;34m'auto'\u001b[0m\u001b[1;33m)\u001b[0m\u001b[1;33m\u001b[0m\u001b[1;33m\u001b[0m\u001b[0m\n\u001b[0m\u001b[0;32m     12\u001b[0m     ])\n",
      "\u001b[1;32m~\\AppData\\Roaming\\Python\\Python37\\site-packages\\tensorflow\\python\\keras\\engine\\training.py\u001b[0m in \u001b[0;36m_method_wrapper\u001b[1;34m(self, *args, **kwargs)\u001b[0m\n\u001b[0;32m    106\u001b[0m   \u001b[1;32mdef\u001b[0m \u001b[0m_method_wrapper\u001b[0m\u001b[1;33m(\u001b[0m\u001b[0mself\u001b[0m\u001b[1;33m,\u001b[0m \u001b[1;33m*\u001b[0m\u001b[0margs\u001b[0m\u001b[1;33m,\u001b[0m \u001b[1;33m**\u001b[0m\u001b[0mkwargs\u001b[0m\u001b[1;33m)\u001b[0m\u001b[1;33m:\u001b[0m\u001b[1;33m\u001b[0m\u001b[1;33m\u001b[0m\u001b[0m\n\u001b[0;32m    107\u001b[0m     \u001b[1;32mif\u001b[0m \u001b[1;32mnot\u001b[0m \u001b[0mself\u001b[0m\u001b[1;33m.\u001b[0m\u001b[0m_in_multi_worker_mode\u001b[0m\u001b[1;33m(\u001b[0m\u001b[1;33m)\u001b[0m\u001b[1;33m:\u001b[0m  \u001b[1;31m# pylint: disable=protected-access\u001b[0m\u001b[1;33m\u001b[0m\u001b[1;33m\u001b[0m\u001b[0m\n\u001b[1;32m--> 108\u001b[1;33m       \u001b[1;32mreturn\u001b[0m \u001b[0mmethod\u001b[0m\u001b[1;33m(\u001b[0m\u001b[0mself\u001b[0m\u001b[1;33m,\u001b[0m \u001b[1;33m*\u001b[0m\u001b[0margs\u001b[0m\u001b[1;33m,\u001b[0m \u001b[1;33m**\u001b[0m\u001b[0mkwargs\u001b[0m\u001b[1;33m)\u001b[0m\u001b[1;33m\u001b[0m\u001b[1;33m\u001b[0m\u001b[0m\n\u001b[0m\u001b[0;32m    109\u001b[0m \u001b[1;33m\u001b[0m\u001b[0m\n\u001b[0;32m    110\u001b[0m     \u001b[1;31m# Running inside `run_distribute_coordinator` already.\u001b[0m\u001b[1;33m\u001b[0m\u001b[1;33m\u001b[0m\u001b[1;33m\u001b[0m\u001b[0m\n",
      "\u001b[1;32m~\\AppData\\Roaming\\Python\\Python37\\site-packages\\tensorflow\\python\\keras\\engine\\training.py\u001b[0m in \u001b[0;36mfit\u001b[1;34m(self, x, y, batch_size, epochs, verbose, callbacks, validation_split, validation_data, shuffle, class_weight, sample_weight, initial_epoch, steps_per_epoch, validation_steps, validation_batch_size, validation_freq, max_queue_size, workers, use_multiprocessing)\u001b[0m\n\u001b[0;32m   1101\u001b[0m               \u001b[0mlogs\u001b[0m \u001b[1;33m=\u001b[0m \u001b[0mtmp_logs\u001b[0m  \u001b[1;31m# No error, now safe to assign to logs.\u001b[0m\u001b[1;33m\u001b[0m\u001b[1;33m\u001b[0m\u001b[0m\n\u001b[0;32m   1102\u001b[0m               \u001b[0mend_step\u001b[0m \u001b[1;33m=\u001b[0m \u001b[0mstep\u001b[0m \u001b[1;33m+\u001b[0m \u001b[0mdata_handler\u001b[0m\u001b[1;33m.\u001b[0m\u001b[0mstep_increment\u001b[0m\u001b[1;33m\u001b[0m\u001b[1;33m\u001b[0m\u001b[0m\n\u001b[1;32m-> 1103\u001b[1;33m               \u001b[0mcallbacks\u001b[0m\u001b[1;33m.\u001b[0m\u001b[0mon_train_batch_end\u001b[0m\u001b[1;33m(\u001b[0m\u001b[0mend_step\u001b[0m\u001b[1;33m,\u001b[0m \u001b[0mlogs\u001b[0m\u001b[1;33m)\u001b[0m\u001b[1;33m\u001b[0m\u001b[1;33m\u001b[0m\u001b[0m\n\u001b[0m\u001b[0;32m   1104\u001b[0m         \u001b[0mepoch_logs\u001b[0m \u001b[1;33m=\u001b[0m \u001b[0mcopy\u001b[0m\u001b[1;33m.\u001b[0m\u001b[0mcopy\u001b[0m\u001b[1;33m(\u001b[0m\u001b[0mlogs\u001b[0m\u001b[1;33m)\u001b[0m\u001b[1;33m\u001b[0m\u001b[1;33m\u001b[0m\u001b[0m\n\u001b[0;32m   1105\u001b[0m \u001b[1;33m\u001b[0m\u001b[0m\n",
      "\u001b[1;32m~\\AppData\\Roaming\\Python\\Python37\\site-packages\\tensorflow\\python\\keras\\callbacks.py\u001b[0m in \u001b[0;36mon_train_batch_end\u001b[1;34m(self, batch, logs)\u001b[0m\n\u001b[0;32m    438\u001b[0m     \"\"\"\n\u001b[0;32m    439\u001b[0m     \u001b[1;32mif\u001b[0m \u001b[0mself\u001b[0m\u001b[1;33m.\u001b[0m\u001b[0m_should_call_train_batch_hooks\u001b[0m\u001b[1;33m:\u001b[0m\u001b[1;33m\u001b[0m\u001b[1;33m\u001b[0m\u001b[0m\n\u001b[1;32m--> 440\u001b[1;33m       \u001b[0mself\u001b[0m\u001b[1;33m.\u001b[0m\u001b[0m_call_batch_hook\u001b[0m\u001b[1;33m(\u001b[0m\u001b[0mModeKeys\u001b[0m\u001b[1;33m.\u001b[0m\u001b[0mTRAIN\u001b[0m\u001b[1;33m,\u001b[0m \u001b[1;34m'end'\u001b[0m\u001b[1;33m,\u001b[0m \u001b[0mbatch\u001b[0m\u001b[1;33m,\u001b[0m \u001b[0mlogs\u001b[0m\u001b[1;33m=\u001b[0m\u001b[0mlogs\u001b[0m\u001b[1;33m)\u001b[0m\u001b[1;33m\u001b[0m\u001b[1;33m\u001b[0m\u001b[0m\n\u001b[0m\u001b[0;32m    441\u001b[0m \u001b[1;33m\u001b[0m\u001b[0m\n\u001b[0;32m    442\u001b[0m   \u001b[1;32mdef\u001b[0m \u001b[0mon_test_batch_begin\u001b[0m\u001b[1;33m(\u001b[0m\u001b[0mself\u001b[0m\u001b[1;33m,\u001b[0m \u001b[0mbatch\u001b[0m\u001b[1;33m,\u001b[0m \u001b[0mlogs\u001b[0m\u001b[1;33m=\u001b[0m\u001b[1;32mNone\u001b[0m\u001b[1;33m)\u001b[0m\u001b[1;33m:\u001b[0m\u001b[1;33m\u001b[0m\u001b[1;33m\u001b[0m\u001b[0m\n",
      "\u001b[1;32m~\\AppData\\Roaming\\Python\\Python37\\site-packages\\tensorflow\\python\\keras\\callbacks.py\u001b[0m in \u001b[0;36m_call_batch_hook\u001b[1;34m(self, mode, hook, batch, logs)\u001b[0m\n\u001b[0;32m    287\u001b[0m       \u001b[0mself\u001b[0m\u001b[1;33m.\u001b[0m\u001b[0m_call_batch_begin_hook\u001b[0m\u001b[1;33m(\u001b[0m\u001b[0mmode\u001b[0m\u001b[1;33m,\u001b[0m \u001b[0mbatch\u001b[0m\u001b[1;33m,\u001b[0m \u001b[0mlogs\u001b[0m\u001b[1;33m)\u001b[0m\u001b[1;33m\u001b[0m\u001b[1;33m\u001b[0m\u001b[0m\n\u001b[0;32m    288\u001b[0m     \u001b[1;32melif\u001b[0m \u001b[0mhook\u001b[0m \u001b[1;33m==\u001b[0m \u001b[1;34m'end'\u001b[0m\u001b[1;33m:\u001b[0m\u001b[1;33m\u001b[0m\u001b[1;33m\u001b[0m\u001b[0m\n\u001b[1;32m--> 289\u001b[1;33m       \u001b[0mself\u001b[0m\u001b[1;33m.\u001b[0m\u001b[0m_call_batch_end_hook\u001b[0m\u001b[1;33m(\u001b[0m\u001b[0mmode\u001b[0m\u001b[1;33m,\u001b[0m \u001b[0mbatch\u001b[0m\u001b[1;33m,\u001b[0m \u001b[0mlogs\u001b[0m\u001b[1;33m)\u001b[0m\u001b[1;33m\u001b[0m\u001b[1;33m\u001b[0m\u001b[0m\n\u001b[0m\u001b[0;32m    290\u001b[0m     \u001b[1;32melse\u001b[0m\u001b[1;33m:\u001b[0m\u001b[1;33m\u001b[0m\u001b[1;33m\u001b[0m\u001b[0m\n\u001b[0;32m    291\u001b[0m       \u001b[1;32mraise\u001b[0m \u001b[0mValueError\u001b[0m\u001b[1;33m(\u001b[0m\u001b[1;34m'Unrecognized hook: {}'\u001b[0m\u001b[1;33m.\u001b[0m\u001b[0mformat\u001b[0m\u001b[1;33m(\u001b[0m\u001b[0mhook\u001b[0m\u001b[1;33m)\u001b[0m\u001b[1;33m)\u001b[0m\u001b[1;33m\u001b[0m\u001b[1;33m\u001b[0m\u001b[0m\n",
      "\u001b[1;32m~\\AppData\\Roaming\\Python\\Python37\\site-packages\\tensorflow\\python\\keras\\callbacks.py\u001b[0m in \u001b[0;36m_call_batch_end_hook\u001b[1;34m(self, mode, batch, logs)\u001b[0m\n\u001b[0;32m    307\u001b[0m       \u001b[0mbatch_time\u001b[0m \u001b[1;33m=\u001b[0m \u001b[0mtime\u001b[0m\u001b[1;33m.\u001b[0m\u001b[0mtime\u001b[0m\u001b[1;33m(\u001b[0m\u001b[1;33m)\u001b[0m \u001b[1;33m-\u001b[0m \u001b[0mself\u001b[0m\u001b[1;33m.\u001b[0m\u001b[0m_batch_start_time\u001b[0m\u001b[1;33m\u001b[0m\u001b[1;33m\u001b[0m\u001b[0m\n\u001b[0;32m    308\u001b[0m \u001b[1;33m\u001b[0m\u001b[0m\n\u001b[1;32m--> 309\u001b[1;33m     \u001b[0mself\u001b[0m\u001b[1;33m.\u001b[0m\u001b[0m_call_batch_hook_helper\u001b[0m\u001b[1;33m(\u001b[0m\u001b[0mhook_name\u001b[0m\u001b[1;33m,\u001b[0m \u001b[0mbatch\u001b[0m\u001b[1;33m,\u001b[0m \u001b[0mlogs\u001b[0m\u001b[1;33m)\u001b[0m\u001b[1;33m\u001b[0m\u001b[1;33m\u001b[0m\u001b[0m\n\u001b[0m\u001b[0;32m    310\u001b[0m \u001b[1;33m\u001b[0m\u001b[0m\n\u001b[0;32m    311\u001b[0m     \u001b[1;32mif\u001b[0m \u001b[0mself\u001b[0m\u001b[1;33m.\u001b[0m\u001b[0m_check_timing\u001b[0m\u001b[1;33m:\u001b[0m\u001b[1;33m\u001b[0m\u001b[1;33m\u001b[0m\u001b[0m\n",
      "\u001b[1;32m~\\AppData\\Roaming\\Python\\Python37\\site-packages\\tensorflow\\python\\keras\\callbacks.py\u001b[0m in \u001b[0;36m_call_batch_hook_helper\u001b[1;34m(self, hook_name, batch, logs)\u001b[0m\n\u001b[0;32m    343\u001b[0m       \u001b[1;32melse\u001b[0m\u001b[1;33m:\u001b[0m\u001b[1;33m\u001b[0m\u001b[1;33m\u001b[0m\u001b[0m\n\u001b[0;32m    344\u001b[0m         \u001b[1;32mif\u001b[0m \u001b[0mnumpy_logs\u001b[0m \u001b[1;32mis\u001b[0m \u001b[1;32mNone\u001b[0m\u001b[1;33m:\u001b[0m  \u001b[1;31m# Only convert once.\u001b[0m\u001b[1;33m\u001b[0m\u001b[1;33m\u001b[0m\u001b[0m\n\u001b[1;32m--> 345\u001b[1;33m           \u001b[0mnumpy_logs\u001b[0m \u001b[1;33m=\u001b[0m \u001b[0mtf_utils\u001b[0m\u001b[1;33m.\u001b[0m\u001b[0mto_numpy_or_python_type\u001b[0m\u001b[1;33m(\u001b[0m\u001b[0mlogs\u001b[0m\u001b[1;33m)\u001b[0m\u001b[1;33m\u001b[0m\u001b[1;33m\u001b[0m\u001b[0m\n\u001b[0m\u001b[0;32m    346\u001b[0m         \u001b[0mhook\u001b[0m\u001b[1;33m(\u001b[0m\u001b[0mbatch\u001b[0m\u001b[1;33m,\u001b[0m \u001b[0mnumpy_logs\u001b[0m\u001b[1;33m)\u001b[0m\u001b[1;33m\u001b[0m\u001b[1;33m\u001b[0m\u001b[0m\n\u001b[0;32m    347\u001b[0m \u001b[1;33m\u001b[0m\u001b[0m\n",
      "\u001b[1;32m~\\AppData\\Roaming\\Python\\Python37\\site-packages\\tensorflow\\python\\keras\\utils\\tf_utils.py\u001b[0m in \u001b[0;36mto_numpy_or_python_type\u001b[1;34m(tensors)\u001b[0m\n\u001b[0;32m    535\u001b[0m     \u001b[1;32mreturn\u001b[0m \u001b[0mt\u001b[0m  \u001b[1;31m# Don't turn ragged or sparse tensors to NumPy.\u001b[0m\u001b[1;33m\u001b[0m\u001b[1;33m\u001b[0m\u001b[0m\n\u001b[0;32m    536\u001b[0m \u001b[1;33m\u001b[0m\u001b[0m\n\u001b[1;32m--> 537\u001b[1;33m   \u001b[1;32mreturn\u001b[0m \u001b[0mnest\u001b[0m\u001b[1;33m.\u001b[0m\u001b[0mmap_structure\u001b[0m\u001b[1;33m(\u001b[0m\u001b[0m_to_single_numpy_or_python_type\u001b[0m\u001b[1;33m,\u001b[0m \u001b[0mtensors\u001b[0m\u001b[1;33m)\u001b[0m\u001b[1;33m\u001b[0m\u001b[1;33m\u001b[0m\u001b[0m\n\u001b[0m\u001b[0;32m    538\u001b[0m \u001b[1;33m\u001b[0m\u001b[0m\n\u001b[0;32m    539\u001b[0m \u001b[1;33m\u001b[0m\u001b[0m\n",
      "\u001b[1;32m~\\AppData\\Roaming\\Python\\Python37\\site-packages\\tensorflow\\python\\util\\nest.py\u001b[0m in \u001b[0;36mmap_structure\u001b[1;34m(func, *structure, **kwargs)\u001b[0m\n\u001b[0;32m    633\u001b[0m \u001b[1;33m\u001b[0m\u001b[0m\n\u001b[0;32m    634\u001b[0m   return pack_sequence_as(\n\u001b[1;32m--> 635\u001b[1;33m       \u001b[0mstructure\u001b[0m\u001b[1;33m[\u001b[0m\u001b[1;36m0\u001b[0m\u001b[1;33m]\u001b[0m\u001b[1;33m,\u001b[0m \u001b[1;33m[\u001b[0m\u001b[0mfunc\u001b[0m\u001b[1;33m(\u001b[0m\u001b[1;33m*\u001b[0m\u001b[0mx\u001b[0m\u001b[1;33m)\u001b[0m \u001b[1;32mfor\u001b[0m \u001b[0mx\u001b[0m \u001b[1;32min\u001b[0m \u001b[0mentries\u001b[0m\u001b[1;33m]\u001b[0m\u001b[1;33m,\u001b[0m\u001b[1;33m\u001b[0m\u001b[1;33m\u001b[0m\u001b[0m\n\u001b[0m\u001b[0;32m    636\u001b[0m       expand_composites=expand_composites)\n\u001b[0;32m    637\u001b[0m \u001b[1;33m\u001b[0m\u001b[0m\n",
      "\u001b[1;32m~\\AppData\\Roaming\\Python\\Python37\\site-packages\\tensorflow\\python\\util\\nest.py\u001b[0m in \u001b[0;36m<listcomp>\u001b[1;34m(.0)\u001b[0m\n\u001b[0;32m    633\u001b[0m \u001b[1;33m\u001b[0m\u001b[0m\n\u001b[0;32m    634\u001b[0m   return pack_sequence_as(\n\u001b[1;32m--> 635\u001b[1;33m       \u001b[0mstructure\u001b[0m\u001b[1;33m[\u001b[0m\u001b[1;36m0\u001b[0m\u001b[1;33m]\u001b[0m\u001b[1;33m,\u001b[0m \u001b[1;33m[\u001b[0m\u001b[0mfunc\u001b[0m\u001b[1;33m(\u001b[0m\u001b[1;33m*\u001b[0m\u001b[0mx\u001b[0m\u001b[1;33m)\u001b[0m \u001b[1;32mfor\u001b[0m \u001b[0mx\u001b[0m \u001b[1;32min\u001b[0m \u001b[0mentries\u001b[0m\u001b[1;33m]\u001b[0m\u001b[1;33m,\u001b[0m\u001b[1;33m\u001b[0m\u001b[1;33m\u001b[0m\u001b[0m\n\u001b[0m\u001b[0;32m    636\u001b[0m       expand_composites=expand_composites)\n\u001b[0;32m    637\u001b[0m \u001b[1;33m\u001b[0m\u001b[0m\n",
      "\u001b[1;32m~\\AppData\\Roaming\\Python\\Python37\\site-packages\\tensorflow\\python\\keras\\utils\\tf_utils.py\u001b[0m in \u001b[0;36m_to_single_numpy_or_python_type\u001b[1;34m(t)\u001b[0m\n\u001b[0;32m    531\u001b[0m   \u001b[1;32mdef\u001b[0m \u001b[0m_to_single_numpy_or_python_type\u001b[0m\u001b[1;33m(\u001b[0m\u001b[0mt\u001b[0m\u001b[1;33m)\u001b[0m\u001b[1;33m:\u001b[0m\u001b[1;33m\u001b[0m\u001b[1;33m\u001b[0m\u001b[0m\n\u001b[0;32m    532\u001b[0m     \u001b[1;32mif\u001b[0m \u001b[0misinstance\u001b[0m\u001b[1;33m(\u001b[0m\u001b[0mt\u001b[0m\u001b[1;33m,\u001b[0m \u001b[0mops\u001b[0m\u001b[1;33m.\u001b[0m\u001b[0mTensor\u001b[0m\u001b[1;33m)\u001b[0m\u001b[1;33m:\u001b[0m\u001b[1;33m\u001b[0m\u001b[1;33m\u001b[0m\u001b[0m\n\u001b[1;32m--> 533\u001b[1;33m       \u001b[0mx\u001b[0m \u001b[1;33m=\u001b[0m \u001b[0mt\u001b[0m\u001b[1;33m.\u001b[0m\u001b[0mnumpy\u001b[0m\u001b[1;33m(\u001b[0m\u001b[1;33m)\u001b[0m\u001b[1;33m\u001b[0m\u001b[1;33m\u001b[0m\u001b[0m\n\u001b[0m\u001b[0;32m    534\u001b[0m       \u001b[1;32mreturn\u001b[0m \u001b[0mx\u001b[0m\u001b[1;33m.\u001b[0m\u001b[0mitem\u001b[0m\u001b[1;33m(\u001b[0m\u001b[1;33m)\u001b[0m \u001b[1;32mif\u001b[0m \u001b[0mnp\u001b[0m\u001b[1;33m.\u001b[0m\u001b[0mndim\u001b[0m\u001b[1;33m(\u001b[0m\u001b[0mx\u001b[0m\u001b[1;33m)\u001b[0m \u001b[1;33m==\u001b[0m \u001b[1;36m0\u001b[0m \u001b[1;32melse\u001b[0m \u001b[0mx\u001b[0m\u001b[1;33m\u001b[0m\u001b[1;33m\u001b[0m\u001b[0m\n\u001b[0;32m    535\u001b[0m     \u001b[1;32mreturn\u001b[0m \u001b[0mt\u001b[0m  \u001b[1;31m# Don't turn ragged or sparse tensors to NumPy.\u001b[0m\u001b[1;33m\u001b[0m\u001b[1;33m\u001b[0m\u001b[0m\n",
      "\u001b[1;32m~\\AppData\\Roaming\\Python\\Python37\\site-packages\\tensorflow\\python\\framework\\ops.py\u001b[0m in \u001b[0;36mnumpy\u001b[1;34m(self)\u001b[0m\n\u001b[0;32m   1061\u001b[0m     \"\"\"\n\u001b[0;32m   1062\u001b[0m     \u001b[1;31m# TODO(slebedev): Consider avoiding a copy for non-CPU or remote tensors.\u001b[0m\u001b[1;33m\u001b[0m\u001b[1;33m\u001b[0m\u001b[1;33m\u001b[0m\u001b[0m\n\u001b[1;32m-> 1063\u001b[1;33m     \u001b[0mmaybe_arr\u001b[0m \u001b[1;33m=\u001b[0m \u001b[0mself\u001b[0m\u001b[1;33m.\u001b[0m\u001b[0m_numpy\u001b[0m\u001b[1;33m(\u001b[0m\u001b[1;33m)\u001b[0m  \u001b[1;31m# pylint: disable=protected-access\u001b[0m\u001b[1;33m\u001b[0m\u001b[1;33m\u001b[0m\u001b[0m\n\u001b[0m\u001b[0;32m   1064\u001b[0m     \u001b[1;32mreturn\u001b[0m \u001b[0mmaybe_arr\u001b[0m\u001b[1;33m.\u001b[0m\u001b[0mcopy\u001b[0m\u001b[1;33m(\u001b[0m\u001b[1;33m)\u001b[0m \u001b[1;32mif\u001b[0m \u001b[0misinstance\u001b[0m\u001b[1;33m(\u001b[0m\u001b[0mmaybe_arr\u001b[0m\u001b[1;33m,\u001b[0m \u001b[0mnp\u001b[0m\u001b[1;33m.\u001b[0m\u001b[0mndarray\u001b[0m\u001b[1;33m)\u001b[0m \u001b[1;32melse\u001b[0m \u001b[0mmaybe_arr\u001b[0m\u001b[1;33m\u001b[0m\u001b[1;33m\u001b[0m\u001b[0m\n\u001b[0;32m   1065\u001b[0m \u001b[1;33m\u001b[0m\u001b[0m\n",
      "\u001b[1;32m~\\AppData\\Roaming\\Python\\Python37\\site-packages\\tensorflow\\python\\framework\\ops.py\u001b[0m in \u001b[0;36m_numpy\u001b[1;34m(self)\u001b[0m\n\u001b[0;32m   1027\u001b[0m   \u001b[1;32mdef\u001b[0m \u001b[0m_numpy\u001b[0m\u001b[1;33m(\u001b[0m\u001b[0mself\u001b[0m\u001b[1;33m)\u001b[0m\u001b[1;33m:\u001b[0m\u001b[1;33m\u001b[0m\u001b[1;33m\u001b[0m\u001b[0m\n\u001b[0;32m   1028\u001b[0m     \u001b[1;32mtry\u001b[0m\u001b[1;33m:\u001b[0m\u001b[1;33m\u001b[0m\u001b[1;33m\u001b[0m\u001b[0m\n\u001b[1;32m-> 1029\u001b[1;33m       \u001b[1;32mreturn\u001b[0m \u001b[0mself\u001b[0m\u001b[1;33m.\u001b[0m\u001b[0m_numpy_internal\u001b[0m\u001b[1;33m(\u001b[0m\u001b[1;33m)\u001b[0m\u001b[1;33m\u001b[0m\u001b[1;33m\u001b[0m\u001b[0m\n\u001b[0m\u001b[0;32m   1030\u001b[0m     \u001b[1;32mexcept\u001b[0m \u001b[0mcore\u001b[0m\u001b[1;33m.\u001b[0m\u001b[0m_NotOkStatusException\u001b[0m \u001b[1;32mas\u001b[0m \u001b[0me\u001b[0m\u001b[1;33m:\u001b[0m  \u001b[1;31m# pylint: disable=protected-access\u001b[0m\u001b[1;33m\u001b[0m\u001b[1;33m\u001b[0m\u001b[0m\n\u001b[0;32m   1031\u001b[0m       \u001b[0msix\u001b[0m\u001b[1;33m.\u001b[0m\u001b[0mraise_from\u001b[0m\u001b[1;33m(\u001b[0m\u001b[0mcore\u001b[0m\u001b[1;33m.\u001b[0m\u001b[0m_status_to_exception\u001b[0m\u001b[1;33m(\u001b[0m\u001b[0me\u001b[0m\u001b[1;33m.\u001b[0m\u001b[0mcode\u001b[0m\u001b[1;33m,\u001b[0m \u001b[0me\u001b[0m\u001b[1;33m.\u001b[0m\u001b[0mmessage\u001b[0m\u001b[1;33m)\u001b[0m\u001b[1;33m,\u001b[0m \u001b[1;32mNone\u001b[0m\u001b[1;33m)\u001b[0m  \u001b[1;31m# pylint: disable=protected-access\u001b[0m\u001b[1;33m\u001b[0m\u001b[1;33m\u001b[0m\u001b[0m\n",
      "\u001b[1;31mKeyboardInterrupt\u001b[0m: "
     ]
    }
   ],
   "source": [
    "filepath = 'resnet_model_upper.h5'\n",
    "history2 = model2.fit(X_train_upper,\n",
    "    Y_train_upper,\n",
    "    batch_size=1024,\n",
    "    epochs=100,\n",
    "    verbose=1,\n",
    "#     validation_data=(X_test, Y_test),\n",
    "    validation_split = 0.2,\n",
    "    callbacks = [\n",
    "        tf.keras.callbacks.ModelCheckpoint(filepath, monitor='val_loss', verbose=1, save_best_only=True, mode='auto'),\n",
    "        tf.keras.callbacks.EarlyStopping(monitor='val_loss', patience=10, verbose=1, mode='auto')\n",
    "    ])"
   ]
  },
  {
   "cell_type": "markdown",
   "metadata": {},
   "source": [
    "# A model can overfit to cross entropy loss without over overfitting to accuracy.\n",
    "\n",
    "There is a key difference between the two types of loss:\n",
    "   Accuracy measures whether you get the prediction right\n",
    "  Cross entropy measures how confident you are about a prediction\n",
    "For example, if an image of a cat is passed into two models. Model A predicts {cat: 0.9, dog: 0.1} and model B predicts {cat: 0.6, dog: 0.4}. Both model will score the same accuracy, but model A will have a lower loss.\n",
    "Because of this the model will try to be more and more confident to minimize loss. It works fine in training stage, but in validation stage it will perform poorly in term of loss. For example, for some borderline images, being confident e.g. {cat: 0.9, dog: 0.1} will give higher loss than being uncertain e.g. {cat: 0.6, dog: 0.4}\n",
    "In short, cross entropy loss measures the calibration of a model. Mis-calibration is a common issue to modern neuronal networks. They tend to be over-confident. On Calibration of Modern Neural Networks talks about it in great details."
   ]
  },
  {
   "cell_type": "code",
   "execution_count": 18,
   "metadata": {},
   "outputs": [
    {
     "ename": "NameError",
     "evalue": "name 'history2' is not defined",
     "output_type": "error",
     "traceback": [
      "\u001b[1;31m---------------------------------------------------------------------------\u001b[0m",
      "\u001b[1;31mNameError\u001b[0m                                 Traceback (most recent call last)",
      "\u001b[1;32m<ipython-input-18-39e5ae6bccd8>\u001b[0m in \u001b[0;36m<module>\u001b[1;34m\u001b[0m\n\u001b[0;32m      1\u001b[0m \u001b[0mfig\u001b[0m\u001b[1;33m,\u001b[0m \u001b[1;33m(\u001b[0m\u001b[1;33m(\u001b[0m\u001b[0max1\u001b[0m\u001b[1;33m,\u001b[0m \u001b[0max2\u001b[0m\u001b[1;33m)\u001b[0m\u001b[1;33m)\u001b[0m \u001b[1;33m=\u001b[0m \u001b[0mplt\u001b[0m\u001b[1;33m.\u001b[0m\u001b[0msubplots\u001b[0m\u001b[1;33m(\u001b[0m\u001b[0mnrows\u001b[0m\u001b[1;33m=\u001b[0m\u001b[1;36m1\u001b[0m\u001b[1;33m,\u001b[0m \u001b[0mncols\u001b[0m\u001b[1;33m=\u001b[0m\u001b[1;36m2\u001b[0m\u001b[1;33m,\u001b[0m\u001b[0mfigsize\u001b[0m\u001b[1;33m=\u001b[0m\u001b[1;33m(\u001b[0m\u001b[1;36m20\u001b[0m\u001b[1;33m,\u001b[0m\u001b[1;36m6\u001b[0m\u001b[1;33m)\u001b[0m\u001b[1;33m)\u001b[0m\u001b[1;33m\u001b[0m\u001b[1;33m\u001b[0m\u001b[0m\n\u001b[0;32m      2\u001b[0m \u001b[1;33m\u001b[0m\u001b[0m\n\u001b[1;32m----> 3\u001b[1;33m \u001b[0max1\u001b[0m\u001b[1;33m.\u001b[0m\u001b[0mplot\u001b[0m\u001b[1;33m(\u001b[0m\u001b[0mhistory2\u001b[0m\u001b[1;33m.\u001b[0m\u001b[0mhistory\u001b[0m\u001b[1;33m[\u001b[0m\u001b[1;34m'accuracy'\u001b[0m\u001b[1;33m]\u001b[0m\u001b[1;33m,\u001b[0m\u001b[1;34m'b'\u001b[0m\u001b[1;33m,\u001b[0m \u001b[0mhistory2\u001b[0m\u001b[1;33m.\u001b[0m\u001b[0mhistory\u001b[0m\u001b[1;33m[\u001b[0m\u001b[1;34m'val_accuracy'\u001b[0m\u001b[1;33m]\u001b[0m\u001b[1;33m,\u001b[0m \u001b[1;34m'r'\u001b[0m\u001b[1;33m)\u001b[0m\u001b[1;33m\u001b[0m\u001b[1;33m\u001b[0m\u001b[0m\n\u001b[0m\u001b[0;32m      4\u001b[0m \u001b[0max1\u001b[0m\u001b[1;33m.\u001b[0m\u001b[0mset_ylabel\u001b[0m\u001b[1;33m(\u001b[0m\u001b[1;34m'Accuracy Rate'\u001b[0m\u001b[1;33m,\u001b[0m\u001b[0mfontsize\u001b[0m\u001b[1;33m=\u001b[0m\u001b[1;36m12\u001b[0m\u001b[1;33m)\u001b[0m\u001b[1;33m\u001b[0m\u001b[1;33m\u001b[0m\u001b[0m\n\u001b[0;32m      5\u001b[0m \u001b[0max1\u001b[0m\u001b[1;33m.\u001b[0m\u001b[0mset_xlabel\u001b[0m\u001b[1;33m(\u001b[0m\u001b[1;34m'Iteration'\u001b[0m\u001b[1;33m,\u001b[0m\u001b[0mfontsize\u001b[0m\u001b[1;33m=\u001b[0m\u001b[1;36m12\u001b[0m\u001b[1;33m)\u001b[0m\u001b[1;33m\u001b[0m\u001b[1;33m\u001b[0m\u001b[0m\n",
      "\u001b[1;31mNameError\u001b[0m: name 'history2' is not defined"
     ]
    },
    {
     "data": {
      "image/png": "[encoded data removed]",
      "text/plain": [
       "<Figure size 1440x432 with 2 Axes>"
      ]
     },
     "metadata": {
      "needs_background": "light"
     },
     "output_type": "display_data"
    }
   ],
   "source": [
    "fig, ((ax1, ax2)) = plt.subplots(nrows=1, ncols=2,figsize=(20,6))\n",
    "\n",
    "ax1.plot(history2.history['accuracy'],'b', history2.history['val_accuracy'], 'r')\n",
    "ax1.set_ylabel('Accuracy Rate',fontsize=12)\n",
    "ax1.set_xlabel('Iteration',fontsize=12)\n",
    "ax1.set_title('Categorical Cross Entropy ',fontsize=14)\n",
    "ax1.legend(['Training Accuracy','Validation Accuracy'],fontsize=12,loc='best')\n",
    "\n",
    "ax2.plot(history2.history['loss'], 'b',history2.history['val_loss'],'r')\n",
    "ax2.set_ylabel('Loss',fontsize=12)\n",
    "ax2.set_xlabel('Iteration',fontsize=12)\n",
    "ax2.set_title('Learning Curve ',fontsize=14)\n",
    "ax2.legend(['Training Loss','Validation Loss'],fontsize=12,loc='best')\n",
    "\n",
    "# plt.savefig('crosse_results.png')\n",
    "plt.show()"
   ]
  },
  {
   "cell_type": "code",
   "execution_count": 19,
   "metadata": {},
   "outputs": [
    {
     "data": {
      "image/png": "[encoded data removed]",
      "text/plain": [
       "<Figure size 720x720 with 2 Axes>"
      ]
     },
     "metadata": {
      "needs_background": "light"
     },
     "output_type": "display_data"
    }
   ],
   "source": [
    "def plot_confusion_matrix(cm, title='Confusion matrix', cmap=plt.cm.Blues, labels=[]):\n",
    "    plt.figure(figsize=(10, 10))\n",
    "    plt.imshow(cm, interpolation='nearest', cmap=cmap)\n",
    "    plt.title(title)\n",
    "    plt.colorbar()\n",
    "    tick_marks = np.arange(len(labels))\n",
    "    plt.xticks(tick_marks, labels, rotation=45)\n",
    "    plt.yticks(tick_marks, labels)\n",
    "    plt.tight_layout()\n",
    "    plt.ylabel('True label')\n",
    "    plt.xlabel('Predicted label')\n",
    "# Plot confusion matrix\n",
    "batch_size = 1024\n",
    "test_Y_hat = model2.predict(X_test, batch_size=3000)\n",
    "conf = np.zeros([len(classes),len(classes)])\n",
    "confnorm = np.zeros([len(classes),len(classes)])\n",
    "for i in range(0,X_test.shape[0]):\n",
    "    j = list(Y_test[i,:]).index(1)\n",
    "    k = int(np.argmax(test_Y_hat[i,:]))\n",
    "    conf[j,k] = conf[j,k] + 1\n",
    "for i in range(0,len(classes)):\n",
    "    confnorm[i,:] = conf[i,:] / np.sum(conf[i,:])\n",
    "plot_confusion_matrix(confnorm, labels=classes)"
   ]
  },
  {
   "cell_type": "code",
   "execution_count": 21,
   "metadata": {},
   "outputs": [
    {
     "name": "stdout",
     "output_type": "stream",
     "text": [
      "32PSK 0.7295498044437048\n",
      "16APSK 0.6730038022813688\n",
      "32QAM 0.7214321150983959\n",
      "FM 0.7211458159345248\n",
      "GMSK 0.6346790205162144\n",
      "32APSK 0.5456827309236948\n",
      "OQPSK 0.9329152570344088\n",
      "8ASK 0.5030333250228538\n",
      "BPSK 0.6157660307588873\n",
      "8PSK 0.6685969556585043\n",
      "AM-SSB-SC 0.5099114297764656\n",
      "4ASK 0.5188609162195625\n",
      "16PSK 0.5448281587248879\n",
      "64APSK 0.561314791403287\n",
      "128QAM 0.5606289942818702\n",
      "128APSK 0.3524769101595298\n",
      "AM-DSB-SC 0.0\n",
      "AM-SSB-WC 0.0002489833181176861\n",
      "64QAM 0.016103981034905582\n",
      "QPSK 0.018412063650753978\n",
      "256QAM 0.0\n",
      "AM-DSB-WC 0.0\n",
      "OOK 0.0\n",
      "16QAM 0.0\n"
     ]
    }
   ],
   "source": [
    "for i in range(len(confnorm)):\n",
    "    print(classes[i],confnorm[i,i])"
   ]
  },
  {
   "cell_type": "code",
   "execution_count": 23,
   "metadata": {
    "scrolled": true
   },
   "outputs": [
    {
     "ename": "NameError",
     "evalue": "name 'Z_test' is not defined",
     "output_type": "error",
     "traceback": [
      "\u001b[1;31m---------------------------------------------------------------------------\u001b[0m",
      "\u001b[1;31mNameError\u001b[0m                                 Traceback (most recent call last)",
      "\u001b[1;32m<ipython-input-23-2e042d4410d9>\u001b[0m in \u001b[0;36m<module>\u001b[1;34m\u001b[0m\n\u001b[0;32m      4\u001b[0m \u001b[0mSNRs\u001b[0m \u001b[1;33m=\u001b[0m \u001b[0mnp\u001b[0m\u001b[1;33m.\u001b[0m\u001b[0munique\u001b[0m\u001b[1;33m(\u001b[0m\u001b[0mZ_train\u001b[0m\u001b[1;33m)\u001b[0m\u001b[1;33m\u001b[0m\u001b[1;33m\u001b[0m\u001b[0m\n\u001b[0;32m      5\u001b[0m \u001b[1;32mfor\u001b[0m \u001b[0msnr\u001b[0m \u001b[1;32min\u001b[0m \u001b[0mSNRs\u001b[0m\u001b[1;33m:\u001b[0m\u001b[1;33m\u001b[0m\u001b[1;33m\u001b[0m\u001b[0m\n\u001b[1;32m----> 6\u001b[1;33m     \u001b[0mX_test_snr\u001b[0m \u001b[1;33m=\u001b[0m \u001b[0mX_test\u001b[0m\u001b[1;33m[\u001b[0m\u001b[0mZ_test\u001b[0m\u001b[1;33m==\u001b[0m\u001b[0msnr\u001b[0m\u001b[1;33m]\u001b[0m\u001b[1;33m\u001b[0m\u001b[1;33m\u001b[0m\u001b[0m\n\u001b[0m\u001b[0;32m      7\u001b[0m     \u001b[0mY_test_snr\u001b[0m \u001b[1;33m=\u001b[0m \u001b[0mY_test\u001b[0m\u001b[1;33m[\u001b[0m\u001b[0mZ_test\u001b[0m\u001b[1;33m==\u001b[0m\u001b[0msnr\u001b[0m\u001b[1;33m]\u001b[0m\u001b[1;33m\u001b[0m\u001b[1;33m\u001b[0m\u001b[0m\n\u001b[0;32m      8\u001b[0m \u001b[1;31m#     if (snr<=0):\u001b[0m\u001b[1;33m\u001b[0m\u001b[1;33m\u001b[0m\u001b[1;33m\u001b[0m\u001b[0m\n",
      "\u001b[1;31mNameError\u001b[0m: name 'Z_test' is not defined"
     ]
    }
   ],
   "source": [
    "\n",
    "acc={}\n",
    "# Z_test = Z[test_idx]\n",
    "# Z_test = Z_test.reshape((len(Z_test)))\n",
    "SNRs = np.unique(Z_train)\n",
    "for snr in SNRs:\n",
    "    X_test_snr = X_test[Z_test==snr]\n",
    "    Y_test_snr = Y_test[Z_test==snr]\n",
    "#     if (snr<=0):      \n",
    "#         pre_Y_test = model.predict(X_test_snr)\n",
    "#     else:\n",
    "#         pre_Y_test = model2.predict(X_test_snr)\n",
    "\n",
    "    pre_Y_test = model2.predict(X_test_snr)\n",
    "\n",
    "    conf = np.zeros([len(classes),len(classes)])\n",
    "    confnorm = np.zeros([len(classes),len(classes)])\n",
    "    for i in range(0,X_test_snr.shape[0]):    #该信噪比下测试数据量\n",
    "        j = list(Y_test_snr[i,:]).index(1)   #正确类别下标\n",
    "        k = int(np.argmax(pre_Y_test[i,:])) #预测类别下标\n",
    "        conf[j,k] = conf[j,k] + 1\n",
    "    for i in range(0,len(classes)):\n",
    "        confnorm[i,:] = conf[i,:] / np.sum(conf[i,:])\n",
    "   \n",
    "    plt.figure()\n",
    "    plot_confusion_matrix(confnorm, labels=classes, title=\"ConvNet Confusion Matrix (SNR=%d)\"%(snr))\n",
    "    \n",
    "    cor = np.sum(np.diag(conf))\n",
    "    ncor = np.sum(conf) - cor\n",
    "    print (\"Overall Accuracy %s: \"%snr, cor / (cor+ncor))\n",
    "    acc[snr] = 1.0*cor/(cor+ncor)"
   ]
  },
  {
   "cell_type": "code",
   "execution_count": 31,
   "metadata": {},
   "outputs": [
    {
     "data": {
      "image/png": "[encoded data removed]",
      "text/plain": [
       "<Figure size 432x288 with 1 Axes>"
      ]
     },
     "metadata": {
      "needs_background": "light"
     },
     "output_type": "display_data"
    }
   ],
   "source": [
    "\n",
    "plt.plot(acc.keys(),acc.values())\n",
    "plt.ylabel('ACC')\n",
    "plt.xlabel('SNR')\n",
    "plt.grid(True)\n",
    "plt.show()"
   ]
  },
  {
   "cell_type": "code",
   "execution_count": null,
   "metadata": {},
   "outputs": [],
   "source": [
    "X_test=X[train_idx]\n"
   ]
  },
  {
   "cell_type": "code",
   "execution_count": null,
   "metadata": {},
   "outputs": [],
   "source": []
  }
 ],
 "metadata": {
  "kernelspec": {
   "display_name": "Python 3",
   "language": "python",
   "name": "python3"
  },
  "language_info": {
   "codemirror_mode": {
    "name": "ipython",
    "version": 3
   },
   "file_extension": ".py",
   "mimetype": "text/x-python",
   "name": "python",
   "nbconvert_exporter": "python",
   "pygments_lexer": "ipython3",
   "version": "3.7.9"
  }
 },
 "nbformat": 4,
 "nbformat_minor": 2
}
